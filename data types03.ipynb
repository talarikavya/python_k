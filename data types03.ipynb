{
 "cells": [
  {
   "cell_type": "markdown",
   "id": "9ba7820c-ca87-4c14-aec7-3dad3e669e13",
   "metadata": {},
   "source": [
    "# DATA TYPES\n",
    "*The classificationor categorising of data element is knownas Data types.\n",
    "*It denotes the kind fof value that specific which operation can be performed on a given set of data.\n",
    "*Data tyoes are essentially classes and variables are instances(objects) of these class, because everything in python programming is an object.\n",
    "*Data type in python are the different types of values that can be stored in a porgram.\n",
    "*Data types used in python are they determine the type of the value variable can hold and specify the operations that can be performed on those values.\n",
    "*Data types are classified into two types.They are i.Basic data typess\n",
    "                                                  ii.Advanced data types.\n",
    "*In basic data type as four types.There are 1.Integer.\n",
    "                                            2.Float.\n",
    "                                            3.Complex.\n",
    "                                            4.Boolean."
   ]
  },
  {
   "cell_type": "markdown",
   "id": "8a366e1d-86e5-4b09-a0e3-262ca17c5318",
   "metadata": {},
   "source": [
    "# INTEGER:\n",
    "*The int in python is used to convert a given number or a string to an integer number.\n",
    "*Integer defined the numberic data of value or integer.\n",
    "*The int function returns the numberic integer equivalent from a given expression.\n",
    "*Python int() method flexiable and necessary tool that enables us to convert various form data into integer.\n",
    "*Typically an integer occupiesfrom bytes or 32 bits."
   ]
  },
  {
   "cell_type": "code",
   "execution_count": 3,
   "id": "2866250b-8f44-405f-83ef-ed1e189ad9d9",
   "metadata": {},
   "outputs": [
    {
     "name": "stdout",
     "output_type": "stream",
     "text": [
      "69\n"
     ]
    }
   ],
   "source": [
    "# EXAMPLE OF INTEGER\n",
    "a=69\n",
    "print(a)"
   ]
  },
  {
   "cell_type": "code",
   "execution_count": 4,
   "id": "9d0a80a7-a2a7-4555-9845-dd698721c254",
   "metadata": {},
   "outputs": [
    {
     "name": "stdout",
     "output_type": "stream",
     "text": [
      "2\n",
      "-67\n"
     ]
    }
   ],
   "source": [
    "h=2\n",
    "k=-67\n",
    "print(h)\n",
    "print(k)"
   ]
  },
  {
   "cell_type": "code",
   "execution_count": 5,
   "id": "9a76f1fa-e05c-4ff1-8454-dd7df55be74b",
   "metadata": {},
   "outputs": [
    {
     "name": "stdout",
     "output_type": "stream",
     "text": [
      "674\n",
      "436\n"
     ]
    }
   ],
   "source": [
    "pos=674\n",
    "neg=436\n",
    "print(pos)\n",
    "print(neg)"
   ]
  },
  {
   "cell_type": "code",
   "execution_count": 6,
   "id": "49276e96-8868-40d2-bbd4-b070a4c0268f",
   "metadata": {},
   "outputs": [
    {
     "name": "stdout",
     "output_type": "stream",
     "text": [
      "-98\n"
     ]
    }
   ],
   "source": [
    "u=-99\n",
    "y=1\n",
    "x=(u+y)\n",
    "print(x)"
   ]
  },
  {
   "cell_type": "code",
   "execution_count": 7,
   "id": "e494163e-d2b2-48c6-aa6a-bd685c8f032f",
   "metadata": {},
   "outputs": [
    {
     "name": "stdout",
     "output_type": "stream",
     "text": [
      "2764\n"
     ]
    }
   ],
   "source": [
    "rose=2764\n",
    "print(rose)"
   ]
  },
  {
   "cell_type": "code",
   "execution_count": 8,
   "id": "22e441b1-6b31-49d6-9145-fa0ce0935595",
   "metadata": {},
   "outputs": [
    {
     "name": "stdout",
     "output_type": "stream",
     "text": [
      "-9\n",
      "-8\n",
      "266\n"
     ]
    }
   ],
   "source": [
    "d=-9\n",
    "e=-8\n",
    "p=266\n",
    "print(d)\n",
    "print(e)\n",
    "print(p)"
   ]
  },
  {
   "cell_type": "code",
   "execution_count": 10,
   "id": "8a63d40b-56bb-4259-b21e-3a4650fcc16f",
   "metadata": {},
   "outputs": [
    {
     "name": "stdout",
     "output_type": "stream",
     "text": [
      "428\n"
     ]
    }
   ],
   "source": [
    "e=61\n",
    "f=489\n",
    "t=(f-e)\n",
    "print(t)"
   ]
  },
  {
   "cell_type": "code",
   "execution_count": 11,
   "id": "3c75cc91-5dd9-4f2e-973a-982f28a95a40",
   "metadata": {},
   "outputs": [
    {
     "name": "stdout",
     "output_type": "stream",
     "text": [
      "-9\n"
     ]
    }
   ],
   "source": [
    "print(d)"
   ]
  },
  {
   "cell_type": "code",
   "execution_count": 12,
   "id": "56fec69a-e5d0-4d07-a94f-c6cb38c5534a",
   "metadata": {},
   "outputs": [
    {
     "name": "stdout",
     "output_type": "stream",
     "text": [
      "-4914\n",
      "3409\n"
     ]
    }
   ],
   "source": [
    "i=444-5358\n",
    "h=159+3250\n",
    "print(i)\n",
    "print(h)"
   ]
  },
  {
   "cell_type": "code",
   "execution_count": 13,
   "id": "4efdb562-931a-4abd-b8bb-22e17cae6002",
   "metadata": {},
   "outputs": [
    {
     "name": "stdout",
     "output_type": "stream",
     "text": [
      "9\n",
      "330\n",
      "55\n"
     ]
    }
   ],
   "source": [
    "n=9\n",
    "o=55*6\n",
    "s=48+7\n",
    "print(n)\n",
    "print(o)\n",
    "print(s)"
   ]
  },
  {
   "cell_type": "markdown",
   "id": "96af5b88-e38f-4d19-8f82-4f02b672063a",
   "metadata": {},
   "source": [
    "# FLOAT:\n",
    "*Float is a fuction or reusable code in the python programming that converts values into floating points numbers.\n",
    "*It represent as decimal point.\n",
    "*Float is used to resprented real number and written with a decimal ponit dividing the integer and fractional parts.\n",
    "EXAMPLE:97.98,-568.97,560.8765.\n",
    "*Python float value are represent as 64 bits."
   ]
  },
  {
   "cell_type": "code",
   "execution_count": 14,
   "id": "9e83e4a1-99bd-4f19-82b2-bc94cff66d7d",
   "metadata": {},
   "outputs": [
    {
     "name": "stdout",
     "output_type": "stream",
     "text": [
      "12.342\n"
     ]
    }
   ],
   "source": [
    "#EXAMPLE OF PYTHON\n",
    "b=12.342\n",
    "print(b)"
   ]
  },
  {
   "cell_type": "code",
   "execution_count": 17,
   "id": "87015f28-3221-4d74-858a-70837a61f748",
   "metadata": {},
   "outputs": [
    {
     "name": "stdout",
     "output_type": "stream",
     "text": [
      "94.23\n",
      "35.88\n"
     ]
    }
   ],
   "source": [
    "s=94.23\n",
    "o=35.88\n",
    "print(s)\n",
    "print(o)"
   ]
  },
  {
   "cell_type": "code",
   "execution_count": 18,
   "id": "e69b9bb7-89ac-4340-b340-8997191cb797",
   "metadata": {},
   "outputs": [
    {
     "name": "stdout",
     "output_type": "stream",
     "text": [
      "-10.044\n"
     ]
    }
   ],
   "source": [
    "h=10.3\n",
    "y=20.344\n",
    "l=h-y\n",
    "print(l)"
   ]
  },
  {
   "cell_type": "code",
   "execution_count": 19,
   "id": "1463f826-596c-4367-a883-e1e77cf7e025",
   "metadata": {},
   "outputs": [
    {
     "name": "stdout",
     "output_type": "stream",
     "text": [
      "-8.6\n"
     ]
    }
   ],
   "source": [
    "x=7.9\n",
    "r=5.5\n",
    "v=3.0\n",
    "f=(x-r*v)\n",
    "print(f)"
   ]
  },
  {
   "cell_type": "code",
   "execution_count": 21,
   "id": "4aaff401-b73d-4b54-a58d-18748bca6180",
   "metadata": {},
   "outputs": [
    {
     "name": "stdout",
     "output_type": "stream",
     "text": [
      "1.0\n",
      "8.222222222222221\n"
     ]
    }
   ],
   "source": [
    "r=1.000000000000000000\n",
    "s=8.222222222222222222\n",
    "print(r)\n",
    "print(s)"
   ]
  },
  {
   "cell_type": "code",
   "execution_count": 22,
   "id": "24fcf974-a320-4353-b381-a88cb9635b1d",
   "metadata": {},
   "outputs": [
    {
     "name": "stdout",
     "output_type": "stream",
     "text": [
      "60.854\n",
      "79.345\n"
     ]
    }
   ],
   "source": [
    "greater=60.854\n",
    "lesser=79.345\n",
    "print(greater)\n",
    "print(lesser)"
   ]
  },
  {
   "cell_type": "code",
   "execution_count": 23,
   "id": "6f7bc550-047d-4d75-a6a6-b0a00cfd2b6f",
   "metadata": {},
   "outputs": [
    {
     "name": "stdout",
     "output_type": "stream",
     "text": [
      "8.888\n"
     ]
    }
   ],
   "source": [
    "q=8.888\n",
    "print(q)"
   ]
  },
  {
   "cell_type": "code",
   "execution_count": 24,
   "id": "c7300396-750b-41ba-b584-de5be10a42a7",
   "metadata": {},
   "outputs": [
    {
     "name": "stdout",
     "output_type": "stream",
     "text": [
      "70.9\n",
      "50.3\n"
     ]
    }
   ],
   "source": [
    "z=70.9\n",
    "d=50.3\n",
    "print(z)\n",
    "print(d)"
   ]
  },
  {
   "cell_type": "code",
   "execution_count": 25,
   "id": "03915444-fc1b-492d-b3bd-d2b1dc95e943",
   "metadata": {},
   "outputs": [
    {
     "name": "stdout",
     "output_type": "stream",
     "text": [
      "69.9\n"
     ]
    }
   ],
   "source": [
    "kavya=69.9\n",
    "talari=70.9\n",
    "score=(kavya%talari)\n",
    "print(score)"
   ]
  },
  {
   "cell_type": "code",
   "execution_count": 26,
   "id": "bb6e5193-083b-4d14-add9-68b68dbe8633",
   "metadata": {},
   "outputs": [
    {
     "name": "stdout",
     "output_type": "stream",
     "text": [
      "5.555555555555555\n",
      "6.666666666666666\n",
      "2.222222222222222\n"
     ]
    }
   ],
   "source": [
    "c=5.555555555555555\n",
    "f=6.666666666666666\n",
    "k=2.222222222222222\n",
    "print(c)\n",
    "print(f)\n",
    "print(k)"
   ]
  },
  {
   "cell_type": "markdown",
   "id": "45a2d74b-9af8-4c1f-8735-e291a31ebbdd",
   "metadata": {},
   "source": [
    "# COMPLEX\n",
    "*The complex data type in python consists of two value the first one is the real part of complex number and the one is the imaginary part of the complex number.\n",
    "*Imaginary part are represented by \"j\" omly.\n",
    "EXAMPLE: b=3+4j,u=9-8j...etc."
   ]
  },
  {
   "cell_type": "code",
   "execution_count": 27,
   "id": "48018570-e472-4a7d-9be3-b6a55b21976d",
   "metadata": {},
   "outputs": [
    {
     "name": "stdout",
     "output_type": "stream",
     "text": [
      "(8+0j)\n"
     ]
    }
   ],
   "source": [
    "# EXAMPLE OF COMPLEX\n",
    "d=8-0j\n",
    "print(d)"
   ]
  },
  {
   "cell_type": "code",
   "execution_count": 33,
   "id": "31148bde-1961-468e-8c04-dfe8d72ff0cb",
   "metadata": {},
   "outputs": [
    {
     "name": "stdout",
     "output_type": "stream",
     "text": [
      "(-53+99j)\n",
      "(-36-22j)\n"
     ]
    }
   ],
   "source": [
    "i=-53+99j\n",
    "s=-36-22j\n",
    "print(i)\n",
    "print(s)"
   ]
  },
  {
   "cell_type": "code",
   "execution_count": 34,
   "id": "31fc213b-40df-4c49-a163-d56608c4289c",
   "metadata": {},
   "outputs": [
    {
     "name": "stdout",
     "output_type": "stream",
     "text": [
      "(-81+79j)\n",
      "(-0-544j)\n"
     ]
    }
   ],
   "source": [
    "h=-81+79j\n",
    "k=-544j\n",
    "print(h)\n",
    "print(k)"
   ]
  },
  {
   "cell_type": "code",
   "execution_count": 35,
   "id": "075fb68e-7742-483a-9391-541202f1a534",
   "metadata": {},
   "outputs": [
    {
     "name": "stdout",
     "output_type": "stream",
     "text": [
      "(111+736j)\n"
     ]
    }
   ],
   "source": [
    "o=111+736j\n",
    "print(o)"
   ]
  },
  {
   "cell_type": "code",
   "execution_count": 36,
   "id": "081b1ad4-66af-420a-8ecd-26f02af8f834",
   "metadata": {},
   "outputs": [
    {
     "name": "stdout",
     "output_type": "stream",
     "text": [
      "(58797-13689j)\n"
     ]
    }
   ],
   "source": [
    "e=99-333j\n",
    "g=86+151j\n",
    "v=(e*g)\n",
    "print(v)"
   ]
  },
  {
   "cell_type": "code",
   "execution_count": 37,
   "id": "8ebbf570-e326-4f6b-b8cf-de58017a3d86",
   "metadata": {},
   "outputs": [
    {
     "name": "stdout",
     "output_type": "stream",
     "text": [
      "(-0-64788j)\n",
      "(754+6938j)\n",
      "53\n"
     ]
    }
   ],
   "source": [
    "x=-64788j\n",
    "y=754+6938j\n",
    "z=53\n",
    "print(x)\n",
    "print(y)\n",
    "print(z)"
   ]
  },
  {
   "cell_type": "code",
   "execution_count": 38,
   "id": "3390f8a0-64b9-4f0a-9994-4f47fbac0549",
   "metadata": {},
   "outputs": [
    {
     "name": "stdout",
     "output_type": "stream",
     "text": [
      "(458+9991j)\n",
      "(7541-45896j)\n"
     ]
    }
   ],
   "source": [
    "python=458+9991j\n",
    "learning=7541-45896j\n",
    "print(python)\n",
    "print(learning)"
   ]
  },
  {
   "cell_type": "code",
   "execution_count": 43,
   "id": "7629c87e-7c75-4e06-8ac5-844c4865c691",
   "metadata": {},
   "outputs": [
    {
     "name": "stdout",
     "output_type": "stream",
     "text": [
      "(74763-111786j)\n"
     ]
    }
   ],
   "source": [
    "p=75-966j\n",
    "l=121+68j\n",
    "f=p*l\n",
    "print(f)"
   ]
  },
  {
   "cell_type": "code",
   "execution_count": 45,
   "id": "620cb3a3-6f58-4390-a11e-9292447ab3d6",
   "metadata": {},
   "outputs": [
    {
     "name": "stdout",
     "output_type": "stream",
     "text": [
      "(1-1j)\n",
      "-5j\n"
     ]
    }
   ],
   "source": [
    "r=1-1j\n",
    "g=0-5j\n",
    "print(r)\n",
    "print(g)"
   ]
  },
  {
   "cell_type": "code",
   "execution_count": 46,
   "id": "a868869f-f622-415d-a8bd-05be4a5d17df",
   "metadata": {},
   "outputs": [
    {
     "name": "stdout",
     "output_type": "stream",
     "text": [
      "(-20-673j)\n"
     ]
    }
   ],
   "source": [
    "r1=67-99j\n",
    "r2=87+574j\n",
    "r3=(r1-r2)\n",
    "print(r3)"
   ]
  },
  {
   "cell_type": "markdown",
   "id": "86490e04-e7a8-4962-a6b3-001a95fc7370",
   "metadata": {},
   "source": [
    "# BOOLEAN\n",
    "*Boolean data types is either Ture Or Flase.\n",
    "*Boolean represented as \"bool\".\n",
    "*True represent as \"1\" and Flase represent as \"0'.\n",
    "*Return a string of either true or flase depending upon the value of the object."
   ]
  },
  {
   "cell_type": "code",
   "execution_count": 48,
   "id": "f8d12087-90b6-4df0-99c4-6bc1caa2b416",
   "metadata": {},
   "outputs": [
    {
     "name": "stdout",
     "output_type": "stream",
     "text": [
      "False\n"
     ]
    }
   ],
   "source": [
    "# EXAMPLE OF BOOLEAN\n",
    "h=21>56\n",
    "print(h)"
   ]
  },
  {
   "cell_type": "code",
   "execution_count": 49,
   "id": "374bccc8-7316-4d3e-8fad-534da3f3b851",
   "metadata": {},
   "outputs": [
    {
     "name": "stdout",
     "output_type": "stream",
     "text": [
      "True\n"
     ]
    }
   ],
   "source": [
    "d=55<66\n",
    "print(d)"
   ]
  },
  {
   "cell_type": "code",
   "execution_count": 50,
   "id": "6918c573-ac44-4dcd-bdb2-4f29ca047fb6",
   "metadata": {},
   "outputs": [
    {
     "name": "stdout",
     "output_type": "stream",
     "text": [
      "True\n",
      "True\n"
     ]
    }
   ],
   "source": [
    "r=99<355\n",
    "s=589>253\n",
    "print(r)\n",
    "print(s)"
   ]
  },
  {
   "cell_type": "code",
   "execution_count": 51,
   "id": "4bd971c0-157d-484e-91b4-5d0dd5b33482",
   "metadata": {},
   "outputs": [
    {
     "name": "stdout",
     "output_type": "stream",
     "text": [
      "True\n",
      "False\n"
     ]
    }
   ],
   "source": [
    "w=-564<977\n",
    "x=3455<2334\n",
    "print(w)\n",
    "print(x)"
   ]
  },
  {
   "cell_type": "code",
   "execution_count": 52,
   "id": "a4e5706c-14cb-4f15-a615-f39eda9e3aaa",
   "metadata": {},
   "outputs": [
    {
     "name": "stdout",
     "output_type": "stream",
     "text": [
      "True\n",
      "True\n"
     ]
    }
   ],
   "source": [
    "u=45<96\n",
    "t=33<77\n",
    "print(u)\n",
    "print(t)"
   ]
  },
  {
   "cell_type": "code",
   "execution_count": 53,
   "id": "7e66a70a-92f1-4d2a-85bd-019d184416c7",
   "metadata": {},
   "outputs": [
    {
     "name": "stdout",
     "output_type": "stream",
     "text": [
      "False\n",
      "False\n",
      "True\n"
     ]
    }
   ],
   "source": [
    "e=566>7863\n",
    "q=6764<763\n",
    "v=6566<7835\n",
    "print(e)\n",
    "print(q)\n",
    "print(v)"
   ]
  },
  {
   "cell_type": "code",
   "execution_count": 57,
   "id": "3854caa4-abbe-474f-88f7-85d58a4e056e",
   "metadata": {},
   "outputs": [
    {
     "name": "stdout",
     "output_type": "stream",
     "text": [
      "True\n",
      "True\n",
      "False\n"
     ]
    }
   ],
   "source": [
    "a=6353>5624\n",
    "b=7895>4528\n",
    "c=100<99\n",
    "print(a)\n",
    "print(b)\n",
    "print(c)"
   ]
  },
  {
   "cell_type": "code",
   "execution_count": 58,
   "id": "5536e714-b13d-428a-bcac-68b8055cdc69",
   "metadata": {},
   "outputs": [
    {
     "name": "stdout",
     "output_type": "stream",
     "text": [
      "False\n",
      "True\n"
     ]
    }
   ],
   "source": [
    "d=-58>258\n",
    "e=758<5896\n",
    "print(d)\n",
    "print(e)"
   ]
  },
  {
   "cell_type": "code",
   "execution_count": 59,
   "id": "59ea40ca-df80-4143-867a-3d85df01772e",
   "metadata": {},
   "outputs": [
    {
     "name": "stdout",
     "output_type": "stream",
     "text": [
      "True\n",
      "False\n"
     ]
    }
   ],
   "source": [
    "h=784<5897\n",
    "p=485>909\n",
    "print(h)\n",
    "print(p)"
   ]
  },
  {
   "cell_type": "code",
   "execution_count": 62,
   "id": "ebdc7b93-24d2-47fa-92d4-b7180faf1bf6",
   "metadata": {},
   "outputs": [
    {
     "name": "stdout",
     "output_type": "stream",
     "text": [
      "False\n",
      "False\n",
      "True\n",
      "True\n"
     ]
    }
   ],
   "source": [
    "w=233>252\n",
    "s=788>998\n",
    "k=897>589\n",
    "y=1000>500\n",
    "print(w)\n",
    "print(s)\n",
    "print(k)\n",
    "print(y)"
   ]
  },
  {
   "cell_type": "markdown",
   "id": "6781e4ae-90e3-4ea7-9d48-09949ee8a1af",
   "metadata": {},
   "source": [
    "# TYPE FUNCTION OF DATA PYTHON\n",
    "*Bulit in functionthat used to return the type of data store in the object or variable in the python.\n",
    "*In here storing variable of data.\n",
    "*Sytax: type(c)."
   ]
  },
  {
   "cell_type": "code",
   "execution_count": 63,
   "id": "f93e98af-bd3d-4243-bfbd-8af1b49cf679",
   "metadata": {},
   "outputs": [
    {
     "name": "stdout",
     "output_type": "stream",
     "text": [
      "<class 'bool'>\n"
     ]
    }
   ],
   "source": [
    "# EXAMPLE OF TYPE FUNCTION IN DATA TYPES:\n",
    "r=97\n",
    "print(type(x))"
   ]
  },
  {
   "cell_type": "code",
   "execution_count": 64,
   "id": "8734b3f2-9c92-42d7-89f8-5fb63a7cf3ef",
   "metadata": {},
   "outputs": [
    {
     "name": "stdout",
     "output_type": "stream",
     "text": [
      "<class 'int'>\n",
      "<class 'int'>\n"
     ]
    }
   ],
   "source": [
    "t=657\n",
    "s=2469\n",
    "print(type(t))\n",
    "print(type(s))"
   ]
  },
  {
   "cell_type": "code",
   "execution_count": 65,
   "id": "48d20ea7-34b0-42c8-80f0-d392c2b3fbbc",
   "metadata": {},
   "outputs": [
    {
     "name": "stdout",
     "output_type": "stream",
     "text": [
      "<class 'float'>\n"
     ]
    }
   ],
   "source": [
    "w=4.98\n",
    "print(type(w))"
   ]
  },
  {
   "cell_type": "code",
   "execution_count": 66,
   "id": "cf57bc46-c662-49bb-be4d-954b37eb3a79",
   "metadata": {},
   "outputs": [
    {
     "name": "stdout",
     "output_type": "stream",
     "text": [
      "<class 'float'>\n",
      "<class 'float'>\n"
     ]
    }
   ],
   "source": [
    "v=78.93\n",
    "u=986.83838\n",
    "print(type(v))\n",
    "print(type(u))"
   ]
  },
  {
   "cell_type": "code",
   "execution_count": 67,
   "id": "c2682037-9ecb-4875-aa3a-5b747e3215d8",
   "metadata": {},
   "outputs": [
    {
     "name": "stdout",
     "output_type": "stream",
     "text": [
      "<class 'complex'>\n"
     ]
    }
   ],
   "source": [
    "g=8-37j\n",
    "print(type(g))"
   ]
  },
  {
   "cell_type": "code",
   "execution_count": 68,
   "id": "788c435a-455a-4959-a6e5-307fb0f76902",
   "metadata": {},
   "outputs": [
    {
     "name": "stdout",
     "output_type": "stream",
     "text": [
      "<class 'complex'>\n",
      "<class 'complex'>\n"
     ]
    }
   ],
   "source": [
    "h=8+77j\n",
    "y=9-99j\n",
    "print(type(h))\n",
    "print(type(y))"
   ]
  },
  {
   "cell_type": "code",
   "execution_count": 69,
   "id": "85f4edd8-a958-4c05-995a-ac1919076a61",
   "metadata": {},
   "outputs": [
    {
     "name": "stdout",
     "output_type": "stream",
     "text": [
      "<class 'bool'>\n"
     ]
    }
   ],
   "source": [
    "q=23>89\n",
    "print(type(q))"
   ]
  },
  {
   "cell_type": "code",
   "execution_count": 70,
   "id": "757dd872-fad7-4bea-8b46-53434e589d6e",
   "metadata": {},
   "outputs": [
    {
     "name": "stdout",
     "output_type": "stream",
     "text": [
      "<class 'bool'>\n",
      "<class 'bool'>\n"
     ]
    }
   ],
   "source": [
    "r=45<89\n",
    "s=75>99\n",
    "print(type(r))\n",
    "print(type(s))"
   ]
  },
  {
   "cell_type": "code",
   "execution_count": 71,
   "id": "1df80809-006a-4da7-a09b-982380925d55",
   "metadata": {},
   "outputs": [
    {
     "name": "stdout",
     "output_type": "stream",
     "text": [
      "<class 'int'>\n",
      "<class 'float'>\n"
     ]
    }
   ],
   "source": [
    "t=833\n",
    "r=93.23\n",
    "print(type(t))\n",
    "print(type(r))"
   ]
  },
  {
   "cell_type": "code",
   "execution_count": 72,
   "id": "5a8a7489-26a6-40ee-b45f-db81d3892be5",
   "metadata": {},
   "outputs": [
    {
     "name": "stdout",
     "output_type": "stream",
     "text": [
      "<class 'float'>\n",
      "<class 'complex'>\n"
     ]
    }
   ],
   "source": [
    "w=587.98\n",
    "u=4-78j\n",
    "print(type(w))\n",
    "print(type(u))"
   ]
  },
  {
   "cell_type": "code",
   "execution_count": 73,
   "id": "c52a1efb-beac-453f-8962-cf9ab7c99104",
   "metadata": {},
   "outputs": [
    {
     "name": "stdout",
     "output_type": "stream",
     "text": [
      "<class 'complex'>\n",
      "<class 'bool'>\n"
     ]
    }
   ],
   "source": [
    "a=8-500j\n",
    "b=60>937\n",
    "print(type(a))\n",
    "print(type(b))"
   ]
  },
  {
   "cell_type": "code",
   "execution_count": 74,
   "id": "d8fa4113-bf9f-414d-a48d-1f26e7505b32",
   "metadata": {},
   "outputs": [
    {
     "name": "stdout",
     "output_type": "stream",
     "text": [
      "<class 'int'>\n",
      "<class 'float'>\n",
      "<class 'complex'>\n",
      "<class 'bool'>\n"
     ]
    }
   ],
   "source": [
    "c=476\n",
    "d=89.998\n",
    "e=-387+897j\n",
    "f=5267<78548\n",
    "print(type(c))\n",
    "print(type(d))\n",
    "print(type(e))\n",
    "print(type(f))"
   ]
  },
  {
   "cell_type": "markdown",
   "id": "93a75a1a-62e0-482f-8803-612a688a86ec",
   "metadata": {},
   "source": [
    "# TYPES CONVERSION OR CASTING IN DATA TYPES:\n",
    "*The conversion of one data type into the other data type.\n",
    "*Type casting is the process of converting the values if sinlge data type.\n",
    "*Now we try some combination if data types."
   ]
  },
  {
   "cell_type": "code",
   "execution_count": 76,
   "id": "428a8193-6280-4d7c-921b-e1727f2ad151",
   "metadata": {},
   "outputs": [
    {
     "name": "stdout",
     "output_type": "stream",
     "text": [
      "34.0\n"
     ]
    }
   ],
   "source": [
    "# int TO float\n",
    "s=34\n",
    "e=float(s)\n",
    "print(e)"
   ]
  },
  {
   "cell_type": "code",
   "execution_count": 78,
   "id": "bc5a451e-60e6-4550-986c-c36f3a0c0f37",
   "metadata": {},
   "outputs": [
    {
     "name": "stdout",
     "output_type": "stream",
     "text": [
      "999.0\n"
     ]
    }
   ],
   "source": [
    "y=999\n",
    "x=float(y)\n",
    "print(x)"
   ]
  },
  {
   "cell_type": "code",
   "execution_count": 79,
   "id": "f2a81ce2-2e08-4f1f-921b-672aa22a21f9",
   "metadata": {},
   "outputs": [
    {
     "name": "stdout",
     "output_type": "stream",
     "text": [
      "6.0\n"
     ]
    }
   ],
   "source": [
    "w=6\n",
    "k=float(w)\n",
    "print(k)"
   ]
  },
  {
   "cell_type": "code",
   "execution_count": 83,
   "id": "eb5e74a7-27c5-4c0b-a1ad-ef964ec662e9",
   "metadata": {},
   "outputs": [
    {
     "name": "stdout",
     "output_type": "stream",
     "text": [
      "(77+0j)\n"
     ]
    }
   ],
   "source": [
    "# int TO complex\n",
    "d=77\n",
    "e=complex(d)\n",
    "print(e)"
   ]
  },
  {
   "cell_type": "code",
   "execution_count": 84,
   "id": "5322719b-14e5-43ff-bd38-d55cb84b650c",
   "metadata": {},
   "outputs": [
    {
     "name": "stdout",
     "output_type": "stream",
     "text": [
      "(100+0j)\n"
     ]
    }
   ],
   "source": [
    "y=100\n",
    "x=complex(y)\n",
    "print(x)"
   ]
  },
  {
   "cell_type": "code",
   "execution_count": 85,
   "id": "bb053cd3-d5d8-429d-9ec7-a2dffabec8e6",
   "metadata": {},
   "outputs": [
    {
     "name": "stdout",
     "output_type": "stream",
     "text": [
      "(99999+0j)\n"
     ]
    }
   ],
   "source": [
    "u=99999\n",
    "h=complex(u)\n",
    "print(h)"
   ]
  },
  {
   "cell_type": "code",
   "execution_count": 86,
   "id": "1f29e043-6dbd-402e-877e-40a86947abb0",
   "metadata": {},
   "outputs": [
    {
     "name": "stdout",
     "output_type": "stream",
     "text": [
      "5\n"
     ]
    }
   ],
   "source": [
    "# float TO int\n",
    "t=5.9\n",
    "r=int(t)\n",
    "print(r)"
   ]
  },
  {
   "cell_type": "code",
   "execution_count": 88,
   "id": "603a0128-0673-4852-9733-d04c359077ba",
   "metadata": {},
   "outputs": [
    {
     "name": "stdout",
     "output_type": "stream",
     "text": [
      "990\n"
     ]
    }
   ],
   "source": [
    "a=990.3\n",
    "b=int(a)\n",
    "print(b)"
   ]
  },
  {
   "cell_type": "code",
   "execution_count": 89,
   "id": "755d260e-5c26-4582-88e2-b96d7afae393",
   "metadata": {},
   "outputs": [
    {
     "name": "stdout",
     "output_type": "stream",
     "text": [
      "3030\n"
     ]
    }
   ],
   "source": [
    "k=3030.899\n",
    "l=int(k)\n",
    "print(l)"
   ]
  },
  {
   "cell_type": "code",
   "execution_count": 90,
   "id": "e455de82-bd7a-4540-8203-57efcf241725",
   "metadata": {},
   "outputs": [
    {
     "name": "stdout",
     "output_type": "stream",
     "text": [
      "(89.334+0j)\n"
     ]
    }
   ],
   "source": [
    "# float TO complex\n",
    "t=89.334\n",
    "y=complex(t)\n",
    "print(y)"
   ]
  },
  {
   "cell_type": "code",
   "execution_count": 92,
   "id": "8a8021f8-4024-4c31-9afe-c7dd3f05d6f1",
   "metadata": {},
   "outputs": [
    {
     "name": "stdout",
     "output_type": "stream",
     "text": [
      "(9.8+0j)\n"
     ]
    }
   ],
   "source": [
    "w=9.8\n",
    "f=complex(w)\n",
    "print(f)"
   ]
  },
  {
   "cell_type": "code",
   "execution_count": 93,
   "id": "a3bf15a2-dd70-4889-a236-9b4e28968051",
   "metadata": {},
   "outputs": [
    {
     "name": "stdout",
     "output_type": "stream",
     "text": [
      "(7480.97+0j)\n"
     ]
    }
   ],
   "source": [
    "g=7480.97\n",
    "v=complex(g)\n",
    "print(v)"
   ]
  },
  {
   "cell_type": "code",
   "execution_count": 95,
   "id": "080da01d-f090-42e1-bd66-24fe74b88bdf",
   "metadata": {},
   "outputs": [
    {
     "name": "stdout",
     "output_type": "stream",
     "text": [
      "(34.8+0j)\n",
      "(68.9+0j)\n",
      "(938+0j)\n"
     ]
    }
   ],
   "source": [
    "a=34.8\n",
    "b=68.9\n",
    "c=938.0\n",
    "y=complex(a)\n",
    "x=complex(b)\n",
    "z=complex(c)\n",
    "print(y)\n",
    "print(x)\n",
    "print(z)"
   ]
  },
  {
   "cell_type": "code",
   "execution_count": 111,
   "id": "c1a8448d-bd6c-40b0-a8fe-432e0eca9eff",
   "metadata": {},
   "outputs": [
    {
     "name": "stdout",
     "output_type": "stream",
     "text": [
      "(23.5+0j)\n",
      "(345.1+0j)\n"
     ]
    }
   ],
   "source": [
    "r=23.5\n",
    "t=345.1\n",
    "e=complex(r)\n",
    "f=complex(t)\n",
    "print(e)\n",
    "print(f)"
   ]
  },
  {
   "cell_type": "code",
   "execution_count": 112,
   "id": "c55998ea-eb9a-462c-b58e-74e4f173aa0e",
   "metadata": {},
   "outputs": [
    {
     "ename": "TypeError",
     "evalue": "int() argument must be a string, a bytes-like object or a real number, not 'complex'",
     "output_type": "error",
     "traceback": [
      "\u001b[1;31m---------------------------------------------------------------------------\u001b[0m",
      "\u001b[1;31mTypeError\u001b[0m                                 Traceback (most recent call last)",
      "Cell \u001b[1;32mIn[112], line 3\u001b[0m\n\u001b[0;32m      1\u001b[0m \u001b[38;5;66;03m# complex TO int\u001b[39;00m\n\u001b[0;32m      2\u001b[0m r\u001b[38;5;241m=\u001b[39m\u001b[38;5;241m33\u001b[39m\u001b[38;5;241m+\u001b[39m\u001b[38;5;241m56\u001b[39mj\n\u001b[1;32m----> 3\u001b[0m t\u001b[38;5;241m=\u001b[39m\u001b[38;5;28mint\u001b[39m(r)\n\u001b[0;32m      4\u001b[0m \u001b[38;5;28mprint\u001b[39m(t)\n",
      "\u001b[1;31mTypeError\u001b[0m: int() argument must be a string, a bytes-like object or a real number, not 'complex'"
     ]
    }
   ],
   "source": [
    "# complex TO int\n",
    "r=33+56j\n",
    "t=int(r)\n",
    "print(t)"
   ]
  },
  {
   "cell_type": "code",
   "execution_count": 113,
   "id": "4eceec83-e721-4692-8ff3-e5f3dd1e4a2b",
   "metadata": {},
   "outputs": [
    {
     "name": "stdout",
     "output_type": "stream",
     "text": [
      "0\n"
     ]
    }
   ],
   "source": [
    "# boolean to int\n",
    "x=65>78\n",
    "y=int(x)\n",
    "print(y)"
   ]
  },
  {
   "cell_type": "code",
   "execution_count": 114,
   "id": "30b78256-b886-4e8f-9c93-e9e52d08c1e1",
   "metadata": {},
   "outputs": [
    {
     "name": "stdout",
     "output_type": "stream",
     "text": [
      "1\n"
     ]
    }
   ],
   "source": [
    "e=1<2\n",
    "f=int(e)\n",
    "print(f)"
   ]
  },
  {
   "cell_type": "code",
   "execution_count": 115,
   "id": "c54a6856-d129-4131-8732-ffd747fb6747",
   "metadata": {},
   "outputs": [
    {
     "name": "stdout",
     "output_type": "stream",
     "text": [
      "0\n",
      "0\n"
     ]
    }
   ],
   "source": [
    "h=45>67\n",
    "q=99<59\n",
    "t=int(h)\n",
    "s=int(q)\n",
    "print(t)\n",
    "print(s)"
   ]
  },
  {
   "cell_type": "code",
   "execution_count": 116,
   "id": "4b2e00ea-c409-4c6d-aa0a-06914777e748",
   "metadata": {},
   "outputs": [
    {
     "name": "stdout",
     "output_type": "stream",
     "text": [
      "1\n"
     ]
    }
   ],
   "source": [
    "u=889>100\n",
    "a=int(u)\n",
    "print(a)"
   ]
  },
  {
   "cell_type": "code",
   "execution_count": 117,
   "id": "b08f0691-6673-4a74-8575-ee9fb2372d28",
   "metadata": {},
   "outputs": [
    {
     "name": "stdout",
     "output_type": "stream",
     "text": [
      "1\n",
      "1\n",
      "0\n"
     ]
    }
   ],
   "source": [
    "g=852<785\n",
    "k=951>874\n",
    "e=1000<10001\n",
    "c=int(e)\n",
    "b=int(k)\n",
    "a=int(g)\n",
    "print(c)\n",
    "print(b)\n",
    "print(a)"
   ]
  },
  {
   "cell_type": "code",
   "execution_count": 118,
   "id": "a0e20ae9-6ccd-4165-82ef-b5f4ab44b677",
   "metadata": {},
   "outputs": [
    {
     "name": "stdout",
     "output_type": "stream",
     "text": [
      "1.0\n"
     ]
    }
   ],
   "source": [
    "# boolean TO float\n",
    "d=71<91\n",
    "e=float(d)\n",
    "print(e)"
   ]
  },
  {
   "cell_type": "code",
   "execution_count": 119,
   "id": "161a3f62-96fd-468e-bebe-ecdf64b8d9f4",
   "metadata": {},
   "outputs": [
    {
     "name": "stdout",
     "output_type": "stream",
     "text": [
      "0.0\n",
      "0.0\n"
     ]
    }
   ],
   "source": [
    "s=88>88\n",
    "w=99<99\n",
    "u=float(s)\n",
    "v=float(w)\n",
    "print(u)\n",
    "print(v)"
   ]
  },
  {
   "cell_type": "code",
   "execution_count": 120,
   "id": "90a6e4b7-6c7a-4f48-bf9d-b55dd6b7b590",
   "metadata": {},
   "outputs": [
    {
     "name": "stdout",
     "output_type": "stream",
     "text": [
      "1.0\n",
      "0.0\n",
      "0.0\n"
     ]
    }
   ],
   "source": [
    "i=339<7876\n",
    "j=56>100\n",
    "k=159>753\n",
    "p=float(i)\n",
    "q=float(j)\n",
    "r=float(k)\n",
    "print(p)\n",
    "print(q)\n",
    "print(r)"
   ]
  },
  {
   "cell_type": "code",
   "execution_count": 121,
   "id": "b127a39a-ca67-4544-8328-0b7f888db8cb",
   "metadata": {},
   "outputs": [
    {
     "name": "stdout",
     "output_type": "stream",
     "text": [
      "0j\n"
     ]
    }
   ],
   "source": [
    "# boolean TO complex\n",
    "w=101>201\n",
    "x=complex(w)\n",
    "print(x)"
   ]
  },
  {
   "cell_type": "code",
   "execution_count": 122,
   "id": "b444ee00-dcb4-4c6c-995d-d79416a8eaaf",
   "metadata": {},
   "outputs": [
    {
     "name": "stdout",
     "output_type": "stream",
     "text": [
      "(1+0j)\n",
      "0j\n"
     ]
    }
   ],
   "source": [
    "a=758<984\n",
    "b=125>351\n",
    "c=complex(a)\n",
    "d=complex(b)\n",
    "print(c)\n",
    "print(d)"
   ]
  },
  {
   "cell_type": "code",
   "execution_count": 123,
   "id": "72dbaa66-e525-44b3-ae98-add0fbb6479b",
   "metadata": {},
   "outputs": [
    {
     "name": "stdout",
     "output_type": "stream",
     "text": [
      "(1+0j)\n",
      "0j\n",
      "(1+0j)\n"
     ]
    }
   ],
   "source": [
    "e=34<90\n",
    "f=98>101\n",
    "l=895>369\n",
    "g=complex(e)\n",
    "h=complex(f)\n",
    "p=complex(l)\n",
    "print(g)\n",
    "print(h)\n",
    "print(p)"
   ]
  },
  {
   "cell_type": "code",
   "execution_count": 124,
   "id": "bbaac0d7-1249-4a2b-87cb-1e3ee3a20c9f",
   "metadata": {},
   "outputs": [
    {
     "name": "stdout",
     "output_type": "stream",
     "text": [
      "False\n"
     ]
    }
   ],
   "source": [
    "# boolean TO boolean \n",
    "r=77>88\n",
    "o=bool(r)\n",
    "print(r)"
   ]
  },
  {
   "cell_type": "code",
   "execution_count": 126,
   "id": "dac3a017-f0e3-423c-9a3e-5cf86b14d308",
   "metadata": {},
   "outputs": [
    {
     "name": "stdout",
     "output_type": "stream",
     "text": [
      "True\n"
     ]
    }
   ],
   "source": [
    "e=588<895\n",
    "u=bool(e)\n",
    "print(u)"
   ]
  },
  {
   "cell_type": "code",
   "execution_count": 127,
   "id": "bbb5617a-71f2-428e-846b-2ff47f3619ca",
   "metadata": {},
   "outputs": [
    {
     "name": "stdout",
     "output_type": "stream",
     "text": [
      "True\n",
      "True\n"
     ]
    }
   ],
   "source": [
    "a=88<99\n",
    "b=758>258\n",
    "c=bool(a)\n",
    "d=bool(b)\n",
    "print(c)\n",
    "print(d)"
   ]
  },
  {
   "cell_type": "code",
   "execution_count": 129,
   "id": "7152e8e7-c60b-4331-b2d9-7c599517c29f",
   "metadata": {},
   "outputs": [
    {
     "name": "stdout",
     "output_type": "stream",
     "text": [
      "False\n",
      "False\n"
     ]
    }
   ],
   "source": [
    "e=147>248\n",
    "f=875>958\n",
    "g=bool(e)\n",
    "h=bool(f)\n",
    "print(g)\n",
    "print(h)"
   ]
  },
  {
   "cell_type": "code",
   "execution_count": 131,
   "id": "e74dce22-839e-4c32-8c0b-fffb05bee4ff",
   "metadata": {},
   "outputs": [
    {
     "name": "stdout",
     "output_type": "stream",
     "text": [
      "True\n",
      "False\n"
     ]
    }
   ],
   "source": [
    "r=58<89\n",
    "s=55>66\n",
    "t=bool(r)\n",
    "u=bool(s)\n",
    "print(t)\n",
    "print(u)"
   ]
  },
  {
   "cell_type": "code",
   "execution_count": null,
   "id": "8b3b9dd1-ec82-4942-a682-85c2a042901b",
   "metadata": {},
   "outputs": [],
   "source": []
  }
 ],
 "metadata": {
  "kernelspec": {
   "display_name": "Python 3 (ipykernel)",
   "language": "python",
   "name": "python3"
  },
  "language_info": {
   "codemirror_mode": {
    "name": "ipython",
    "version": 3
   },
   "file_extension": ".py",
   "mimetype": "text/x-python",
   "name": "python",
   "nbconvert_exporter": "python",
   "pygments_lexer": "ipython3",
   "version": "3.12.4"
  }
 },
 "nbformat": 4,
 "nbformat_minor": 5
}
