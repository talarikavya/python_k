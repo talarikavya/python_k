{
 "cells": [
  {
   "cell_type": "markdown",
   "id": "c90a4d34-303a-4890-bcc0-0e4516f23a71",
   "metadata": {},
   "source": [
    "# OPERATION:\n",
    "*Operation are preformed to variables and values.\n",
    "*Here some types in operations.There are 1.Arithmatic operation.\n",
    "                                         2.Assignment operation.\n",
    "                                         3.Compersion operation.\n",
    "                                         4.Logical operation.\n",
    "                                         5.Idenifiy operation.\n",
    "                                         6.Membership operation.\n",
    "                                         7.Bitwise operation."
   ]
  },
  {
   "cell_type": "markdown",
   "id": "0dd62089-72ea-4a13-9d25-34f5827bfd81",
   "metadata": {},
   "source": [
    "# 1.Arithmatic operation.\n",
    "*Arithmatic are used for numberic values to performing common mathematical operation.\n",
    "*Operation are { +   ->      Addition operation.\n",
    "                 -   ->      Subtraction operation.\n",
    "                 *   ->      Multiplication operation.\n",
    "                 /   ->      Division operation.\n",
    "                 %   ->      Remainder operation.\n",
    "                 //  ->      Double division operation.\n",
    "                 **  ->      Expoent operation. }"
   ]
  },
  {
   "cell_type": "code",
   "execution_count": 1,
   "id": "09bba937-9e87-4aae-9616-12123957dff7",
   "metadata": {},
   "outputs": [
    {
     "name": "stdout",
     "output_type": "stream",
     "text": [
      "15\n"
     ]
    }
   ],
   "source": [
    "# EXAMPLE OF ARITHMATIC OPERATION:-\n",
    "#adition arithmatic\n",
    "a=9\n",
    "b=6\n",
    "c=a+b\n",
    "print(c)"
   ]
  },
  {
   "cell_type": "code",
   "execution_count": 2,
   "id": "b382c18e-c69f-42a0-ba48-e81314adda08",
   "metadata": {},
   "outputs": [
    {
     "name": "stdout",
     "output_type": "stream",
     "text": [
      "261\n"
     ]
    }
   ],
   "source": [
    "w=85\n",
    "x=74\n",
    "y=102\n",
    "z=w+x+y\n",
    "print(z)"
   ]
  },
  {
   "cell_type": "code",
   "execution_count": 3,
   "id": "8414caab-f935-448d-9401-1b81e712d0c6",
   "metadata": {},
   "outputs": [
    {
     "name": "stdout",
     "output_type": "stream",
     "text": [
      "3\n"
     ]
    }
   ],
   "source": [
    "#subration arithmatic\n",
    "d=a-b\n",
    "print(d)"
   ]
  },
  {
   "cell_type": "code",
   "execution_count": 4,
   "id": "cf595ec0-4fec-40b0-a820-ce948b46dd6c",
   "metadata": {},
   "outputs": [
    {
     "name": "stdout",
     "output_type": "stream",
     "text": [
      "-91\n"
     ]
    }
   ],
   "source": [
    "v=w-x-y\n",
    "print(v)"
   ]
  },
  {
   "cell_type": "code",
   "execution_count": 5,
   "id": "53d26b0a-4249-4217-bf60-ca28eff020c8",
   "metadata": {},
   "outputs": [
    {
     "name": "stdout",
     "output_type": "stream",
     "text": [
      "54\n"
     ]
    }
   ],
   "source": [
    "#mutlipcation artimathic\n",
    "e=a*b\n",
    "print(e)"
   ]
  },
  {
   "cell_type": "code",
   "execution_count": 6,
   "id": "f00453d1-e4f2-403b-9491-0644a28c5388",
   "metadata": {},
   "outputs": [
    {
     "name": "stdout",
     "output_type": "stream",
     "text": [
      "641580\n"
     ]
    }
   ],
   "source": [
    "f=w*x*y\n",
    "print(f)"
   ]
  },
  {
   "cell_type": "code",
   "execution_count": 7,
   "id": "1a634b74-b308-4092-bf20-0260381c7d4d",
   "metadata": {},
   "outputs": [
    {
     "name": "stdout",
     "output_type": "stream",
     "text": [
      "1.5\n"
     ]
    }
   ],
   "source": [
    "#division artimathic\n",
    "s=a/b\n",
    "print(s)"
   ]
  },
  {
   "cell_type": "code",
   "execution_count": 8,
   "id": "055ddbbb-c7a0-4df3-9d1f-aed48616ed96",
   "metadata": {},
   "outputs": [
    {
     "name": "stdout",
     "output_type": "stream",
     "text": [
      "0.8333333333333334\n"
     ]
    }
   ],
   "source": [
    "t=w/y\n",
    "print(t)"
   ]
  },
  {
   "cell_type": "code",
   "execution_count": 9,
   "id": "36e7482b-3f84-43d3-831e-8da542341754",
   "metadata": {},
   "outputs": [
    {
     "name": "stdout",
     "output_type": "stream",
     "text": [
      "13\n"
     ]
    }
   ],
   "source": [
    "#remainder artimathic \n",
    "w=45\n",
    "s=32\n",
    "u=w%s\n",
    "print(u)"
   ]
  },
  {
   "cell_type": "code",
   "execution_count": 10,
   "id": "29112814-d83a-444c-b3ad-bef34bd0519a",
   "metadata": {},
   "outputs": [
    {
     "name": "stdout",
     "output_type": "stream",
     "text": [
      "3\n"
     ]
    }
   ],
   "source": [
    "e=5\n",
    "h=w%s%e\n",
    "print(h)"
   ]
  },
  {
   "cell_type": "code",
   "execution_count": 11,
   "id": "781db284-0180-46c7-917c-1fc077e2f1cf",
   "metadata": {},
   "outputs": [
    {
     "name": "stdout",
     "output_type": "stream",
     "text": [
      "0\n"
     ]
    }
   ],
   "source": [
    "#Double division operation.\n",
    "r=23\n",
    "s=43\n",
    "t=r//s\n",
    "print(t)"
   ]
  },
  {
   "cell_type": "code",
   "execution_count": 12,
   "id": "ef9b73b6-39cc-4ea8-9548-2639bbec97e5",
   "metadata": {},
   "outputs": [
    {
     "name": "stdout",
     "output_type": "stream",
     "text": [
      "0\n"
     ]
    }
   ],
   "source": [
    "t=24\n",
    "d=40\n",
    "e=10\n",
    "s=t//d//e\n",
    "print(s)"
   ]
  },
  {
   "cell_type": "code",
   "execution_count": 13,
   "id": "2d0a644e-1f56-4c6a-bded-4b6e89c66ac5",
   "metadata": {},
   "outputs": [
    {
     "name": "stdout",
     "output_type": "stream",
     "text": [
      "729\n"
     ]
    }
   ],
   "source": [
    "#Expoent operation\n",
    "w=9\n",
    "g=3\n",
    "h=w**g\n",
    "print(h)"
   ]
  },
  {
   "cell_type": "code",
   "execution_count": 15,
   "id": "e8b4aa0b-9f8b-4aea-828d-bbff448c7cf6",
   "metadata": {},
   "outputs": [
    {
     "name": "stdout",
     "output_type": "stream",
     "text": [
      "10000000000\n"
     ]
    }
   ],
   "source": [
    "p=10\n",
    "q=10\n",
    "r=p**q\n",
    "print(r)"
   ]
  },
  {
   "cell_type": "markdown",
   "id": "0bdc7a42-c1e7-4088-8b56-b3f3baba11f9",
   "metadata": {},
   "source": [
    "# ASSIGIMENT OPERATION\n",
    "*Assigiment is equally to opeartion and variable or values.\n",
    "*Assigiment are reduced memory size compare to arthimatic operation.\n",
    "*Assigiment opeartion are {  =      ->    equally to \n",
    "                            +=      ->    addition operation\n",
    "                            -=      ->    subration operation\n",
    "                            *=      ->    multipication operation\n",
    "                            /=      ->    division operation\n",
    "                            %=      ->    remainder operation\n",
    "                           **=      ->    exponent operation      }"
   ]
  },
  {
   "cell_type": "code",
   "execution_count": 17,
   "id": "a96b318d-a5b1-44ca-9b03-bcfb9360982a",
   "metadata": {},
   "outputs": [
    {
     "name": "stdout",
     "output_type": "stream",
     "text": [
      "3\n"
     ]
    }
   ],
   "source": [
    "# EXAMPLES OF ASSIGIMENT OPERATION\n",
    "# equally \n",
    "a=2\n",
    "b=3\n",
    "c=a=b\n",
    "print(c)"
   ]
  },
  {
   "cell_type": "code",
   "execution_count": 18,
   "id": "98562450-df42-45bb-bc80-98bbc780e9ad",
   "metadata": {},
   "outputs": [
    {
     "name": "stdout",
     "output_type": "stream",
     "text": [
      "5\n"
     ]
    }
   ],
   "source": [
    "i=-5\n",
    "o=5\n",
    "p=i=o\n",
    "print(p)"
   ]
  },
  {
   "cell_type": "code",
   "execution_count": 22,
   "id": "aba584fc-9264-4907-ba90-0f2240fa8ea2",
   "metadata": {},
   "outputs": [
    {
     "name": "stdout",
     "output_type": "stream",
     "text": [
      "11\n"
     ]
    }
   ],
   "source": [
    "# addtion equally to\n",
    "a=7\n",
    "b=a+4\n",
    "print(b)"
   ]
  },
  {
   "cell_type": "code",
   "execution_count": 23,
   "id": "a8420634-f29d-4592-9d14-0eb950634014",
   "metadata": {},
   "outputs": [
    {
     "name": "stdout",
     "output_type": "stream",
     "text": [
      "200\n"
     ]
    }
   ],
   "source": [
    "r=99\n",
    "s=r+101\n",
    "print(s)"
   ]
  },
  {
   "cell_type": "code",
   "execution_count": 24,
   "id": "3c1608f4-99f5-4777-bedd-f0c14953e9f2",
   "metadata": {},
   "outputs": [
    {
     "name": "stdout",
     "output_type": "stream",
     "text": [
      "898\n"
     ]
    }
   ],
   "source": [
    "t=5\n",
    "q=t+893\n",
    "print(q)"
   ]
  },
  {
   "cell_type": "code",
   "execution_count": 25,
   "id": "eec2f09b-26ee-4c24-acda-eb9308a9da3b",
   "metadata": {},
   "outputs": [
    {
     "name": "stdout",
     "output_type": "stream",
     "text": [
      "892\n"
     ]
    }
   ],
   "source": [
    "#subtraction equally to\n",
    "c=q-6\n",
    "print(c)"
   ]
  },
  {
   "cell_type": "code",
   "execution_count": 26,
   "id": "4c406efd-ad33-4d48-bc78-786955815c89",
   "metadata": {},
   "outputs": [
    {
     "name": "stdout",
     "output_type": "stream",
     "text": [
      "55\n"
     ]
    }
   ],
   "source": [
    "d=r-44\n",
    "print(d)"
   ]
  },
  {
   "cell_type": "code",
   "execution_count": 27,
   "id": "1122d26e-424e-4a80-b3f3-aa6f221ed853",
   "metadata": {},
   "outputs": [
    {
     "name": "stdout",
     "output_type": "stream",
     "text": [
      "-85\n"
     ]
    }
   ],
   "source": [
    "l=t-90\n",
    "print(l)"
   ]
  },
  {
   "cell_type": "code",
   "execution_count": 28,
   "id": "84569a66-65ea-4aef-812f-0f9cd28fef3d",
   "metadata": {},
   "outputs": [
    {
     "name": "stdout",
     "output_type": "stream",
     "text": [
      "49\n"
     ]
    }
   ],
   "source": [
    "#multipication equally to \n",
    "f=a*7\n",
    "print(f)"
   ]
  },
  {
   "cell_type": "code",
   "execution_count": 30,
   "id": "33d187f0-2e75-47e0-8086-639a0e05f46b",
   "metadata": {},
   "outputs": [
    {
     "name": "stdout",
     "output_type": "stream",
     "text": [
      "594\n"
     ]
    }
   ],
   "source": [
    "g=r*6\n",
    "print(g)"
   ]
  },
  {
   "cell_type": "code",
   "execution_count": 31,
   "id": "92a03723-6dfd-4de5-9595-258577ba0e80",
   "metadata": {},
   "outputs": [
    {
     "name": "stdout",
     "output_type": "stream",
     "text": [
      "10\n"
     ]
    }
   ],
   "source": [
    "x=t*2\n",
    "print(x)"
   ]
  },
  {
   "cell_type": "code",
   "execution_count": 32,
   "id": "6e6cf973-40f1-4aca-b99e-aeb1bdc9a6f9",
   "metadata": {},
   "outputs": [
    {
     "name": "stdout",
     "output_type": "stream",
     "text": [
      "2.3333333333333335\n"
     ]
    }
   ],
   "source": [
    "#division equally to\n",
    "s=a/3\n",
    "print(s)"
   ]
  },
  {
   "cell_type": "code",
   "execution_count": 33,
   "id": "e7edad1c-6780-4c8c-a8c3-a4e3dd50b996",
   "metadata": {},
   "outputs": [
    {
     "name": "stdout",
     "output_type": "stream",
     "text": [
      "9.9\n"
     ]
    }
   ],
   "source": [
    "h=r/10\n",
    "print(h)"
   ]
  },
  {
   "cell_type": "code",
   "execution_count": 34,
   "id": "c705e44c-4490-45ca-9aa4-085f5c7285e7",
   "metadata": {},
   "outputs": [
    {
     "name": "stdout",
     "output_type": "stream",
     "text": [
      "0.8333333333333334\n"
     ]
    }
   ],
   "source": [
    "q=t/6\n",
    "print(q)"
   ]
  },
  {
   "cell_type": "code",
   "execution_count": 35,
   "id": "1fa9da12-a066-4325-be59-7df24475952a",
   "metadata": {},
   "outputs": [
    {
     "name": "stdout",
     "output_type": "stream",
     "text": [
      "1\n"
     ]
    }
   ],
   "source": [
    "#remainder equally to \n",
    "x=a%6\n",
    "print(x)"
   ]
  },
  {
   "cell_type": "code",
   "execution_count": 36,
   "id": "954d2e6a-3e79-4643-a40f-a4750eec1043",
   "metadata": {},
   "outputs": [
    {
     "name": "stdout",
     "output_type": "stream",
     "text": [
      "0\n"
     ]
    }
   ],
   "source": [
    "f=r%9\n",
    "print(f)"
   ]
  },
  {
   "cell_type": "code",
   "execution_count": 37,
   "id": "0da14675-2b1c-4ec8-abd6-c6336bb56735",
   "metadata": {},
   "outputs": [
    {
     "name": "stdout",
     "output_type": "stream",
     "text": [
      "5\n"
     ]
    }
   ],
   "source": [
    "l=t%99\n",
    "print(l)"
   ]
  },
  {
   "cell_type": "code",
   "execution_count": 38,
   "id": "0787f8d0-3f07-4903-aa38-e8d6be3845eb",
   "metadata": {},
   "outputs": [
    {
     "name": "stdout",
     "output_type": "stream",
     "text": [
      "16807\n"
     ]
    }
   ],
   "source": [
    "#expoment equally to \n",
    "u=a**5\n",
    "print(u)"
   ]
  },
  {
   "cell_type": "code",
   "execution_count": 39,
   "id": "27f55119-9fd9-4aee-a82e-1ffef86f8fd7",
   "metadata": {},
   "outputs": [
    {
     "name": "stdout",
     "output_type": "stream",
     "text": [
      "9801\n"
     ]
    }
   ],
   "source": [
    "y=r**2\n",
    "print(y)"
   ]
  },
  {
   "cell_type": "code",
   "execution_count": 40,
   "id": "d00780de-19e5-4d75-bac3-a70a09ede6a1",
   "metadata": {},
   "outputs": [
    {
     "name": "stdout",
     "output_type": "stream",
     "text": [
      "5\n"
     ]
    }
   ],
   "source": [
    "k=t**1\n",
    "print(k)"
   ]
  },
  {
   "cell_type": "markdown",
   "id": "5de271c8-b43f-43ae-9039-fd7126fe364f",
   "metadata": {},
   "source": [
    "# COMPARSION OPERATION\n",
    "*Comparsion is an two values are Ture or Flase.\n",
    "*Comparsion is nothing but two element.\n",
    "*Operation are  {  ==      ->    is equally to \n",
    "                   !=      ->    not equally to\n",
    "                   >       ->    greater\n",
    "                   <       ->    lesser\n",
    "                   >=      ->    greater than\n",
    "                   <=      ->    lesser than    }"
   ]
  },
  {
   "cell_type": "code",
   "execution_count": 51,
   "id": "f6cad6c9-13a7-45e7-88f3-b73309925d43",
   "metadata": {},
   "outputs": [
    {
     "name": "stdout",
     "output_type": "stream",
     "text": [
      "True\n"
     ]
    }
   ],
   "source": [
    "# EXAMPLE FOR COMPARSION OPERATION\n",
    "# is equally to\n",
    "e=4\n",
    "f=4\n",
    "print(e==f)"
   ]
  },
  {
   "cell_type": "code",
   "execution_count": 55,
   "id": "2640a688-935e-46bf-bd06-0bb574d7e5e5",
   "metadata": {},
   "outputs": [
    {
     "name": "stdout",
     "output_type": "stream",
     "text": [
      "False\n"
     ]
    }
   ],
   "source": [
    "a=12\n",
    "b=10\n",
    "print(a==b)"
   ]
  },
  {
   "cell_type": "code",
   "execution_count": null,
   "id": "0eebd00b-b9d9-4cb2-b8b0-61ca2ccc3687",
   "metadata": {},
   "outputs": [],
   "source": []
  },
  {
   "cell_type": "code",
   "execution_count": 52,
   "id": "0eddc8ed-3eb1-4f55-8aee-16756c8bf70d",
   "metadata": {},
   "outputs": [
    {
     "name": "stdout",
     "output_type": "stream",
     "text": [
      "True\n",
      "False\n"
     ]
    }
   ],
   "source": [
    "g=99\n",
    "k=99\n",
    "v=10\n",
    "u=78\n",
    "print(g==k)\n",
    "print(v==u)"
   ]
  },
  {
   "cell_type": "code",
   "execution_count": 53,
   "id": "88084fa8-fc34-44fb-a7e4-53d5ae64f4d7",
   "metadata": {},
   "outputs": [
    {
     "name": "stdout",
     "output_type": "stream",
     "text": [
      "True\n"
     ]
    }
   ],
   "source": [
    "# not equally to\n",
    "a=4\n",
    "b=5\n",
    "print(a!=b)"
   ]
  },
  {
   "cell_type": "code",
   "execution_count": 54,
   "id": "70645067-6b30-478c-9d4b-b6785eb124ee",
   "metadata": {},
   "outputs": [
    {
     "name": "stdout",
     "output_type": "stream",
     "text": [
      "False\n"
     ]
    }
   ],
   "source": [
    "s=99\n",
    "t=99\n",
    "print(s!=t)"
   ]
  },
  {
   "cell_type": "code",
   "execution_count": 56,
   "id": "c6d08e51-45b4-475e-aa06-7c9bb665903d",
   "metadata": {},
   "outputs": [
    {
     "name": "stdout",
     "output_type": "stream",
     "text": [
      "False\n",
      "True\n"
     ]
    }
   ],
   "source": [
    "print(g!=k)\n",
    "print(a!=b)"
   ]
  },
  {
   "cell_type": "code",
   "execution_count": 57,
   "id": "4f7469bf-22a8-4b3c-9322-7a57e41558ba",
   "metadata": {},
   "outputs": [
    {
     "name": "stdout",
     "output_type": "stream",
     "text": [
      "True\n"
     ]
    }
   ],
   "source": [
    "#greater than\n",
    "o=7\n",
    "t=4\n",
    "print(o>t)"
   ]
  },
  {
   "cell_type": "code",
   "execution_count": 61,
   "id": "d1377910-bf17-408d-bba7-c6ca4cace9ac",
   "metadata": {},
   "outputs": [
    {
     "name": "stdout",
     "output_type": "stream",
     "text": [
      "False\n"
     ]
    }
   ],
   "source": [
    "q=9\n",
    "s=10\n",
    "print(q>s)"
   ]
  },
  {
   "cell_type": "code",
   "execution_count": 62,
   "id": "61ff2ea5-348c-467d-95cb-46bd2c3df65f",
   "metadata": {},
   "outputs": [
    {
     "name": "stdout",
     "output_type": "stream",
     "text": [
      "True\n",
      "False\n"
     ]
    }
   ],
   "source": [
    "a=2\n",
    "b=1\n",
    "c=4\n",
    "d=9\n",
    "print(a>b)\n",
    "print(c>d)"
   ]
  },
  {
   "cell_type": "code",
   "execution_count": 63,
   "id": "f48396a7-b952-4994-a3a7-6261738572d8",
   "metadata": {},
   "outputs": [
    {
     "name": "stdout",
     "output_type": "stream",
     "text": [
      "True\n"
     ]
    }
   ],
   "source": [
    "# lesser than\n",
    "i=5\n",
    "j=8\n",
    "print(i<j)"
   ]
  },
  {
   "cell_type": "code",
   "execution_count": 64,
   "id": "8fcf5260-ec54-42fc-9bed-212eaf4e8196",
   "metadata": {},
   "outputs": [
    {
     "name": "stdout",
     "output_type": "stream",
     "text": [
      "False\n"
     ]
    }
   ],
   "source": [
    "u=9\n",
    "v=8\n",
    "print(u<v)"
   ]
  },
  {
   "cell_type": "code",
   "execution_count": 65,
   "id": "24e56d05-86b2-4f56-ab06-8073dad015b9",
   "metadata": {},
   "outputs": [
    {
     "name": "stdout",
     "output_type": "stream",
     "text": [
      "False\n",
      "True\n"
     ]
    }
   ],
   "source": [
    "print(j<i)\n",
    "print(v<u)"
   ]
  },
  {
   "cell_type": "code",
   "execution_count": 66,
   "id": "879e62b6-14f2-40b1-b3b9-87e0173a1dbf",
   "metadata": {},
   "outputs": [
    {
     "name": "stdout",
     "output_type": "stream",
     "text": [
      "True\n"
     ]
    }
   ],
   "source": [
    "# greater than or equally to\n",
    "t=55\n",
    "s=55\n",
    "print(t>=s)"
   ]
  },
  {
   "cell_type": "code",
   "execution_count": 67,
   "id": "73901837-e8df-4156-b0e8-f697b83c9862",
   "metadata": {},
   "outputs": [
    {
     "name": "stdout",
     "output_type": "stream",
     "text": [
      "False\n"
     ]
    }
   ],
   "source": [
    "r=45\n",
    "q=78\n",
    "print(r>=q)"
   ]
  },
  {
   "cell_type": "code",
   "execution_count": 68,
   "id": "fc8596f7-2b1e-4491-a69f-bd876e33f505",
   "metadata": {},
   "outputs": [
    {
     "name": "stdout",
     "output_type": "stream",
     "text": [
      "True\n",
      "True\n"
     ]
    }
   ],
   "source": [
    "print(t>=s)\n",
    "print(q>=r)"
   ]
  },
  {
   "cell_type": "code",
   "execution_count": 69,
   "id": "05ec7940-073f-4a32-8fc9-718b8bceeb69",
   "metadata": {},
   "outputs": [
    {
     "name": "stdout",
     "output_type": "stream",
     "text": [
      "True\n",
      "False\n"
     ]
    }
   ],
   "source": [
    "u=1\n",
    "v=1\n",
    "w=7\n",
    "y=9\n",
    "print(u>=v)\n",
    "print(w>=y)"
   ]
  },
  {
   "cell_type": "code",
   "execution_count": 70,
   "id": "b21e0654-5141-47aa-9088-a6292b0a7040",
   "metadata": {},
   "outputs": [
    {
     "name": "stdout",
     "output_type": "stream",
     "text": [
      "True\n"
     ]
    }
   ],
   "source": [
    "#lesser than equally to \n",
    "print(t<=s)"
   ]
  },
  {
   "cell_type": "code",
   "execution_count": 73,
   "id": "c53c8ae4-5004-464c-b01d-1ba685ecdcce",
   "metadata": {},
   "outputs": [
    {
     "name": "stdout",
     "output_type": "stream",
     "text": [
      "False\n"
     ]
    }
   ],
   "source": [
    "t=3\n",
    "p=1\n",
    "print(t<=p)"
   ]
  },
  {
   "cell_type": "code",
   "execution_count": 74,
   "id": "695d7060-a644-4e55-9711-d73c5f74f60d",
   "metadata": {},
   "outputs": [
    {
     "name": "stdout",
     "output_type": "stream",
     "text": [
      "True\n",
      "False\n"
     ]
    }
   ],
   "source": [
    "print(r<=q)\n",
    "print(s<=t)        print ( 25<89 and "
   ]
  },
  {
   "cell_type": "markdown",
   "id": "9614fc66-e829-4c5e-b284-eac5a4ddc68f",
   "metadata": {},
   "source": [
    "# LOGICAL OPERATION\n",
    "*Logical is nothing but Ture or Flase.\n",
    "*And statment are comparsion of this operation.\n",
    "*Operation are   {   and      ->    returns true if both are operands are ture\n",
    "                     or       ->    returns true if either of the operands are ture\n",
    "                     not      ->    returns ture if the operation are flase.     }\n",
    "*Operation are represented as {  and  ->  q and  p\n",
    "                                  or  ->  q or   p\n",
    "                                  not ->  q not  p  }"
   ]
  },
  {
   "cell_type": "markdown",
   "id": "8fbb422c-9e8f-44a3-af19-4e607ecbac0e",
   "metadata": {},
   "source": [
    "# and operation:\n",
    "*In both condition should be staified condition."
   ]
  },
  {
   "cell_type": "code",
   "execution_count": 79,
   "id": "a72cc4e6-84b2-48fc-80c8-2c66ac14e271",
   "metadata": {},
   "outputs": [
    {
     "name": "stdout",
     "output_type": "stream",
     "text": [
      "True\n"
     ]
    }
   ],
   "source": [
    "# Example of and operationL\n",
    "print(10<12 and 8>7)"
   ]
  },
  {
   "cell_type": "code",
   "execution_count": 80,
   "id": "84aa7691-5b52-47ad-bada-83a93eaf7154",
   "metadata": {},
   "outputs": [
    {
     "name": "stdout",
     "output_type": "stream",
     "text": [
      "True\n"
     ]
    }
   ],
   "source": [
    "print(90<100 and 100<101)"
   ]
  },
  {
   "cell_type": "code",
   "execution_count": 81,
   "id": "e2e3f755-b1ec-4c67-8d38-a6bc459323f1",
   "metadata": {},
   "outputs": [
    {
     "name": "stdout",
     "output_type": "stream",
     "text": [
      "False\n"
     ]
    }
   ],
   "source": [
    "print(1<0 and 2<1)"
   ]
  },
  {
   "cell_type": "code",
   "execution_count": 84,
   "id": "37fd422c-1ef3-40cf-95c7-a90e64fdd73b",
   "metadata": {},
   "outputs": [
    {
     "name": "stdout",
     "output_type": "stream",
     "text": [
      "True\n",
      "False\n"
     ]
    }
   ],
   "source": [
    "print(13>12 and 9<10)\n",
    "print(13<14 and 9<8)"
   ]
  },
  {
   "cell_type": "code",
   "execution_count": 85,
   "id": "d0729f49-977e-4dd3-a04b-4d4505eba5da",
   "metadata": {},
   "outputs": [
    {
     "name": "stdout",
     "output_type": "stream",
     "text": [
      "False\n"
     ]
    }
   ],
   "source": [
    "print(87<79 and 0>1)"
   ]
  },
  {
   "cell_type": "markdown",
   "id": "8f6e8292-59e9-47eb-b904-c1c619e2cd81",
   "metadata": {},
   "source": [
    "# or operation\n",
    "*In one statment should statified and another statment is not staified."
   ]
  },
  {
   "cell_type": "code",
   "execution_count": 86,
   "id": "fd3de9b7-d003-4c37-98b5-d93e3ebf8920",
   "metadata": {},
   "outputs": [
    {
     "name": "stdout",
     "output_type": "stream",
     "text": [
      "True\n"
     ]
    }
   ],
   "source": [
    "# Example or operation:\n",
    "print(9<12 or 9>8)"
   ]
  },
  {
   "cell_type": "code",
   "execution_count": 91,
   "id": "a2598b01-c993-4d15-90e3-25a81add5c96",
   "metadata": {},
   "outputs": [
    {
     "name": "stdout",
     "output_type": "stream",
     "text": [
      "False\n"
     ]
    }
   ],
   "source": [
    "print(99<88 or 99>100)"
   ]
  },
  {
   "cell_type": "code",
   "execution_count": 92,
   "id": "1eb2dd6a-0be4-4c4c-8899-651113d96410",
   "metadata": {},
   "outputs": [
    {
     "name": "stdout",
     "output_type": "stream",
     "text": [
      "False\n",
      "True\n"
     ]
    }
   ],
   "source": [
    "print(12<10 or 5>6)\n",
    "print(10<11 or 11>10)"
   ]
  },
  {
   "cell_type": "code",
   "execution_count": 93,
   "id": "f7ceac77-9dc9-40d4-8207-f0ada60ba07c",
   "metadata": {},
   "outputs": [
    {
     "name": "stdout",
     "output_type": "stream",
     "text": [
      "True\n"
     ]
    }
   ],
   "source": [
    "print(12>9 or 8<9)"
   ]
  },
  {
   "cell_type": "code",
   "execution_count": 100,
   "id": "51fe3b35-6826-479b-9b60-066cda55531f",
   "metadata": {},
   "outputs": [
    {
     "name": "stdout",
     "output_type": "stream",
     "text": [
      "False\n"
     ]
    }
   ],
   "source": [
    "print(55<47 or 6>7)"
   ]
  },
  {
   "cell_type": "markdown",
   "id": "9ceb92c1-aaf1-4c0a-9de7-545d60130a65",
   "metadata": {},
   "source": [
    "# not operation\n",
    "*Quickly opposite to 'and' either 'or' operation."
   ]
  },
  {
   "cell_type": "code",
   "execution_count": 114,
   "id": "8dd55da2-dc08-4108-ad22-8cf527a80d81",
   "metadata": {},
   "outputs": [
    {
     "name": "stdout",
     "output_type": "stream",
     "text": [
      "True\n"
     ]
    }
   ],
   "source": [
    "# Example of not operation\n",
    "a=56\n",
    "print(not(a<45 and a<99))"
   ]
  },
  {
   "cell_type": "code",
   "execution_count": 119,
   "id": "ed70fa0f-85da-474b-a927-11a2e9eb5899",
   "metadata": {},
   "outputs": [
    {
     "name": "stdout",
     "output_type": "stream",
     "text": [
      "False\n"
     ]
    }
   ],
   "source": [
    "a=5\n",
    "print(not(a<47 or a>9))"
   ]
  },
  {
   "cell_type": "code",
   "execution_count": 120,
   "id": "18e93a76-4a85-4d27-ae46-cace4521b3ff",
   "metadata": {},
   "outputs": [
    {
     "name": "stdout",
     "output_type": "stream",
     "text": [
      "True\n"
     ]
    }
   ],
   "source": [
    "x=9\n",
    "print(not(x<6 and x>4))"
   ]
  },
  {
   "cell_type": "code",
   "execution_count": 121,
   "id": "4427c3cf-750e-45a3-bd3a-ed42af43e9d9",
   "metadata": {},
   "outputs": [
    {
     "name": "stdout",
     "output_type": "stream",
     "text": [
      "True\n",
      "False\n"
     ]
    }
   ],
   "source": [
    "b=10\n",
    "print(not(b>9 and b>10))\n",
    "print(not(b<8 or b>6))"
   ]
  },
  {
   "cell_type": "code",
   "execution_count": 122,
   "id": "793398df-3bcb-4832-8687-d3104640f912",
   "metadata": {},
   "outputs": [
    {
     "name": "stdout",
     "output_type": "stream",
     "text": [
      "False\n"
     ]
    }
   ],
   "source": [
    "p=105\n",
    "print(not(p<105 or p>104))"
   ]
  },
  {
   "cell_type": "code",
   "execution_count": null,
   "id": "6edeb38d-26cd-45d9-8158-5fc2b4559720",
   "metadata": {},
   "outputs": [],
   "source": []
  }
 ],
 "metadata": {
  "kernelspec": {
   "display_name": "Python 3 (ipykernel)",
   "language": "python",
   "name": "python3"
  },
  "language_info": {
   "codemirror_mode": {
    "name": "ipython",
    "version": 3
   },
   "file_extension": ".py",
   "mimetype": "text/x-python",
   "name": "python",
   "nbconvert_exporter": "python",
   "pygments_lexer": "ipython3",
   "version": "3.12.4"
  }
 },
 "nbformat": 4,
 "nbformat_minor": 5
}
