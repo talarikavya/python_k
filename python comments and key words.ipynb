{
 "cells": [
  {
   "cell_type": "markdown",
   "id": "d387a6ef-a36c-4f64-910c-37b1cfec3880",
   "metadata": {},
   "source": [
    "# INTRODUTION OF PYTHON\n",
    "*Python is a general-purpose,dynamic,high-level,and interpreted programming languange.\n",
    "*It is designed to be simple and easy to learn, making it an ideal choice for beginners.\n",
    "*One of the key strenghs of the pyhton is an versatility.\n",
    "*Python supports the object-oriented programming approach,allowing developers to  create applications with organized and reusble code."
   ]
  },
  {
   "cell_type": "markdown",
   "id": "7ddc2cf9-af3b-4d51-a554-848d96c34099",
   "metadata": {},
   "source": [
    "# HISTORT OF PYTHON\n",
    "*Invented in the Netherlands,early [1991] by \"Guido van rossum\".\n",
    "*Named after 'manty python'.\n",
    "*Open source from the begginning.\n",
    "*Considered a scripting language,but is much more.\n",
    "*Scalable,object oriented anf fuctional.\n",
    "*Python 2.0 was released on 2000\n",
    "*Python 3.0 was released on 2008\n",
    "*Currently python 3.10.2 is the stable version."
   ]
  },
  {
   "cell_type": "markdown",
   "id": "10651432-7f14-485a-96f9-5db07e0a5fbf",
   "metadata": {},
   "source": [
    "# FEATURES OF PYTHON\n",
    "*Easy to learn: Python is easy to learn and use.It is developer friendly and high-level programming language.\n",
    "*Expressive Language: Python language is more expressive means that is more understandable and readable.\n",
    "*Interpreted Language: Interprefer executes the code line by line at a time.The makes debugging easy and thus suitable for beginners.\n",
    "*Cross-platform Language: Python can run equally an different platform such as Windows,Linux,Unix and macintox...etc.So, We can that python in portable language.\n",
    "*Open Source: Python language is freely available at offical web address. The sources code is also available it is open source.\n",
    "*Object-Oriented Language: Python supports object oriented language and concepts of classes and objects come into existence.\n",
    "*Extensible: It impliesthat other language such as CC++ can beused to complies the code and thus it can used further in our python code.\n",
    "*Large stardard Libary: Python has large and broad libary and provides rich set of module and funcities forraiped application development.\n",
    "*GUI Programming Support: Graphical Uses Interface can be developed using python.\n",
    "*Integrated: It can be easily integrated with language with language like c++,JAVA,HTML,..etc."
   ]
  },
  {
   "cell_type": "markdown",
   "id": "5ee5f47a-45d5-49af-b58c-80ec0234e44e",
   "metadata": {},
   "source": [
    "# COMMENTS\n",
    "*Python are identified with a hash symbol(\"#\"), and extend to the end of the line.\n",
    "*Comments are used in python:-\n",
    "->Enchance code readability.\n",
    "->Explaining code to other.\n",
    "->Understanding code it studied after some time.\n",
    "->Documenting the steps and needs for a function.\n",
    "->Sharing code with fellow developers.\n",
    "->Collaborating with multiplepeople.\n",
    "*Comments are two types of comments. They are 1.single line comments.\n",
    "                                              2.multi-line comments.\n",
    "*single line comments:-\n",
    "->Python single line comment starts with the hashtag symbol (\"#\") or end of the line.\n",
    "->Comment exceeds one line then put a hash on the next line and continue the python.\n",
    "->Single-line comments are proved useful for supplying short explanations for variables,function declaration and expression.\n",
    "->Example: #print(\"good morning\");\n",
    "*Multi-line comments:-\n",
    "->Python can use triple-quoted strings(\" or \"\"\") if not assigned to a variable or use the hash (\"#\") at the beginnig of each line.\n",
    "->Text spread across multiple line as one single string.\n",
    "->Example: #print(\"good morning\");\n",
    "           #print(\"good afternoon\");\n",
    "           #print(\"good night\");"
   ]
  },
  {
   "cell_type": "markdown",
   "id": "9eae9578-ca9b-4e8a-bbf5-236b3a9965c8",
   "metadata": {},
   "source": [
    "# KEYWORDS\n",
    "*Python keywords is a word that serves a specific function in python.\n",
    "*Keywords are used can't be used variable names,function names or any other identifiers.\n",
    "*Keywords are totally 33.\n",
    "*They are Flase,Ture,None,and,as,assert,break,class,continue,def,del,elid,else,except,finally,for,from,global,if,import,return,lambda,nonlocal,not,or,pass,raise, in,is,try,with.while,yield."
   ]
  }
 ],
 "metadata": {
  "kernelspec": {
   "display_name": "Python 3 (ipykernel)",
   "language": "python",
   "name": "python3"
  },
  "language_info": {
   "codemirror_mode": {
    "name": "ipython",
    "version": 3
   },
   "file_extension": ".py",
   "mimetype": "text/x-python",
   "name": "python",
   "nbconvert_exporter": "python",
   "pygments_lexer": "ipython3",
   "version": "3.12.4"
  }
 },
 "nbformat": 4,
 "nbformat_minor": 5
}
