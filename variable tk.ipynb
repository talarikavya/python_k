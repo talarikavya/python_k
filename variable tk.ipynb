{
 "cells": [
  {
   "cell_type": "markdown",
   "id": "d80012d5-1bd2-41ee-8ebb-782e66e998b4",
   "metadata": {},
   "source": [
    "# VARIABLE\n",
    "*Python variable is a reserverd memory location to storing values with an python program.\n",
    "*This means that when you create a variable you reserved some space in the memory.\n",
    "*Variables are containers storing data values.\n",
    "*Example: a=1\n",
    "          print(\"a\")\n",
    "          output:\n",
    "          5\n",
    "*Variable are two types, They are 1.single variable.\n",
    "                                  2.multi variable.[Here two sub types are i.Multi-variable and multi-values.\n",
    "                                                                          ii.Multi-variable and single values.\n",
    "# RULE OF VARIABLES\n",
    "*A variable name can onlyn contain alpha-numeric characters and underscores(-).\n",
    "*A variable can't start with a number or any special characters like (',*,%...etc).\n",
    "*Python reserved can't be used naming the variable.\n",
    "*Variable name can'tstart with digits.\n",
    "*Python are name as case-sesitive which means name and NAME are two different names python."
   ]
  },
  {
   "cell_type": "code",
   "execution_count": 16,
   "id": "b39d0449-403b-40d6-9a64-8ac15018b587",
   "metadata": {},
   "outputs": [
    {
     "name": "stdout",
     "output_type": "stream",
     "text": [
      "5\n"
     ]
    }
   ],
   "source": [
    "b=5\n",
    "print(b);"
   ]
  },
  {
   "cell_type": "code",
   "execution_count": 18,
   "id": "b64fdab9-c77c-4dc0-9d09-e32cd73ea238",
   "metadata": {},
   "outputs": [
    {
     "name": "stdout",
     "output_type": "stream",
     "text": [
      "0\n"
     ]
    }
   ],
   "source": [
    "x=0\n",
    "print(x)"
   ]
  },
  {
   "cell_type": "code",
   "execution_count": 19,
   "id": "2fa06fd4-ca3e-4209-8379-8265384312f1",
   "metadata": {},
   "outputs": [
    {
     "name": "stdout",
     "output_type": "stream",
     "text": [
      "kavya\n"
     ]
    }
   ],
   "source": [
    "u='kavya'\n",
    "print(u)"
   ]
  },
  {
   "cell_type": "code",
   "execution_count": 20,
   "id": "bbecaa81-e8c1-42e2-a716-eb77cb44b334",
   "metadata": {},
   "outputs": [
    {
     "name": "stdout",
     "output_type": "stream",
     "text": [
      "-1\n"
     ]
    }
   ],
   "source": [
    "a=3\n",
    "b=4\n",
    "print(a-b)"
   ]
  },
  {
   "cell_type": "code",
   "execution_count": 21,
   "id": "6d8a4851-281d-497f-955d-282a77861672",
   "metadata": {},
   "outputs": [
    {
     "name": "stdout",
     "output_type": "stream",
     "text": [
      "7\n"
     ]
    }
   ],
   "source": [
    "a=3\n",
    "b=4\n",
    "print(a+b)"
   ]
  },
  {
   "cell_type": "code",
   "execution_count": 22,
   "id": "790856aa-2941-4341-9fd8-9f833ea35213",
   "metadata": {},
   "outputs": [
    {
     "name": "stdout",
     "output_type": "stream",
     "text": [
      "fruits\n"
     ]
    }
   ],
   "source": [
    "i='fruits'\n",
    "print(i)"
   ]
  },
  {
   "cell_type": "code",
   "execution_count": 23,
   "id": "a1fa9116-08a0-4ad3-be75-dc4633a79644",
   "metadata": {},
   "outputs": [
    {
     "name": "stdout",
     "output_type": "stream",
     "text": [
      "5\n",
      "4\n",
      "8\n"
     ]
    }
   ],
   "source": [
    "k,l,m=5,4,8\n",
    "print(k)\n",
    "print(l)\n",
    "print(m)"
   ]
  },
  {
   "cell_type": "code",
   "execution_count": 25,
   "id": "8591fe73-0104-4739-a91d-20409bd61b21",
   "metadata": {},
   "outputs": [
    {
     "name": "stdout",
     "output_type": "stream",
     "text": [
      "red\n",
      "white\n"
     ]
    }
   ],
   "source": [
    "o='red'\n",
    "p='white'\n",
    "print(o)\n",
    "print(p)"
   ]
  },
  {
   "cell_type": "code",
   "execution_count": 26,
   "id": "5824bcd4-59fe-45fb-82b8-50e31ebdabfc",
   "metadata": {},
   "outputs": [
    {
     "name": "stdout",
     "output_type": "stream",
     "text": [
      "59\n",
      "59\n",
      "59\n"
     ]
    }
   ],
   "source": [
    "a=b=d=59\n",
    "print(a)\n",
    "print(b)\n",
    "print(d)"
   ]
  },
  {
   "cell_type": "code",
   "execution_count": 27,
   "id": "983f57db-5ff7-4d79-b7af-ef95b980f19a",
   "metadata": {},
   "outputs": [
    {
     "name": "stdout",
     "output_type": "stream",
     "text": [
      "47\n",
      "data\n"
     ]
    }
   ],
   "source": [
    "b=47\n",
    "e='data'\n",
    "print(b)\n",
    "print(e)"
   ]
  },
  {
   "cell_type": "code",
   "execution_count": 30,
   "id": "70cfc567-4fc6-4e9d-bf70-f3bf814a4b4f",
   "metadata": {},
   "outputs": [
    {
     "name": "stdout",
     "output_type": "stream",
     "text": [
      "3838\n"
     ]
    }
   ],
   "source": [
    "a=38\n",
    "b=101\n",
    "print(a*b)"
   ]
  },
  {
   "cell_type": "code",
   "execution_count": 34,
   "id": "0bddf993-ab2a-4ea5-a1ec-6f0823e2f66d",
   "metadata": {},
   "outputs": [
    {
     "name": "stdout",
     "output_type": "stream",
     "text": [
      "1024\n",
      "1024\n",
      "1024\n"
     ]
    }
   ],
   "source": [
    "p=q=r=1024\n",
    "print(p)\n",
    "print(q)\n",
    "print(r)"
   ]
  },
  {
   "cell_type": "code",
   "execution_count": 35,
   "id": "8e14ff06-0b84-41f6-afe5-e49492b0a290",
   "metadata": {},
   "outputs": [
    {
     "name": "stdout",
     "output_type": "stream",
     "text": [
      "25\n",
      "36\n"
     ]
    }
   ],
   "source": [
    "x,y=25,36\n",
    "print(x)\n",
    "print(y)"
   ]
  },
  {
   "cell_type": "code",
   "execution_count": 36,
   "id": "d50ecafe-b18f-439d-8baa-daa8ce3edf19",
   "metadata": {},
   "outputs": [
    {
     "name": "stdout",
     "output_type": "stream",
     "text": [
      "python\n",
      "java\n"
     ]
    }
   ],
   "source": [
    "t='python'\n",
    "s='java'\n",
    "print(t)\n",
    "print(s)"
   ]
  },
  {
   "cell_type": "code",
   "execution_count": 39,
   "id": "1441bf71-bebf-4523-80b6-bcbec029cbac",
   "metadata": {},
   "outputs": [
    {
     "name": "stdout",
     "output_type": "stream",
     "text": [
      "99\n",
      "55\n"
     ]
    }
   ],
   "source": [
    "number=99\n",
    "values=55\n",
    "print(number)\n",
    "print(values)"
   ]
  },
  {
   "cell_type": "code",
   "execution_count": 41,
   "id": "36b41475-2eac-41a6-b64b-3fe0bba60a37",
   "metadata": {},
   "outputs": [
    {
     "name": "stdout",
     "output_type": "stream",
     "text": [
      "10\n",
      "20\n",
      "glass\n"
     ]
    }
   ],
   "source": [
    "a=10\n",
    "b=20\n",
    "c='glass'\n",
    "print(a)\n",
    "print(b)\n",
    "print(c)"
   ]
  },
  {
   "cell_type": "code",
   "execution_count": 43,
   "id": "88ec868c-f5f1-4131-b367-01fae052a2c4",
   "metadata": {},
   "outputs": [
    {
     "name": "stdout",
     "output_type": "stream",
     "text": [
      "939\n",
      "199\n",
      "738\n",
      "911\n"
     ]
    }
   ],
   "source": [
    "p,q,r,s=939,199,738,911\n",
    "print(p)\n",
    "print(q)\n",
    "print(r)\n",
    "print(s)"
   ]
  },
  {
   "cell_type": "code",
   "execution_count": 44,
   "id": "4225af1d-3ec5-494f-9e77-542e85dc65a4",
   "metadata": {},
   "outputs": [
    {
     "name": "stdout",
     "output_type": "stream",
     "text": [
      "500\n",
      "500\n",
      "9\n",
      "5\n"
     ]
    }
   ],
   "source": [
    "w=y=500\n",
    "print(w)\n",
    "print(y)\n",
    "w,y=9,5\n",
    "print(w)\n",
    "print(y)"
   ]
  },
  {
   "cell_type": "code",
   "execution_count": 45,
   "id": "340426ef-b03b-49c4-95ad-6600cb18505f",
   "metadata": {},
   "outputs": [
    {
     "name": "stdout",
     "output_type": "stream",
     "text": [
      "7\n",
      "7\n",
      "7\n",
      "9\n",
      "8\n",
      "7\n"
     ]
    }
   ],
   "source": [
    "p=t=v=7\n",
    "print(p)\n",
    "print(t)\n",
    "print(v)\n",
    "p,t,v=9,8,7\n",
    "print(p)\n",
    "print(t)\n",
    "print(v)"
   ]
  },
  {
   "cell_type": "code",
   "execution_count": 46,
   "id": "ddfadb06-80fc-4048-8054-890d4e3ffc13",
   "metadata": {},
   "outputs": [
    {
     "name": "stdout",
     "output_type": "stream",
     "text": [
      "21\n",
      "31\n",
      "-10\n"
     ]
    }
   ],
   "source": [
    "i=21\n",
    "j=31\n",
    "print(i)\n",
    "print(j)\n",
    "print(i-j)"
   ]
  },
  {
   "cell_type": "code",
   "execution_count": 47,
   "id": "fd2fa8e5-9771-4dea-a1c1-d23239d89ca7",
   "metadata": {},
   "outputs": [
    {
     "name": "stdout",
     "output_type": "stream",
     "text": [
      "plant\n",
      "79\n"
     ]
    }
   ],
   "source": [
    "o='plant'\n",
    "q=79\n",
    "print(o)\n",
    "print(q)"
   ]
  },
  {
   "cell_type": "code",
   "execution_count": 50,
   "id": "56433949-7652-4381-894f-1c82090ec9e1",
   "metadata": {},
   "outputs": [],
   "source": [
    "# INVAILD CODE"
   ]
  },
  {
   "cell_type": "code",
   "execution_count": 59,
   "id": "baea73e0-6e57-4b80-b76e-e00afb3371c5",
   "metadata": {},
   "outputs": [
    {
     "name": "stdout",
     "output_type": "stream",
     "text": [
      "10\n"
     ]
    },
    {
     "name": "stderr",
     "output_type": "stream",
     "text": [
      "'a' is not recognized as an internal or external command,\n",
      "operable program or batch file.\n"
     ]
    }
   ],
   "source": [
    "!a=99\n",
    "print(a)"
   ]
  },
  {
   "cell_type": "code",
   "execution_count": 54,
   "id": "78a80fca-c299-46ee-bc8a-0db5d89a5eed",
   "metadata": {},
   "outputs": [
    {
     "ename": "SyntaxError",
     "evalue": "cannot assign to literal here. Maybe you meant '==' instead of '='? (2207054835.py, line 1)",
     "output_type": "error",
     "traceback": [
      "\u001b[1;36m  Cell \u001b[1;32mIn[54], line 1\u001b[1;36m\u001b[0m\n\u001b[1;33m    5=t\u001b[0m\n\u001b[1;37m    ^\u001b[0m\n\u001b[1;31mSyntaxError\u001b[0m\u001b[1;31m:\u001b[0m cannot assign to literal here. Maybe you meant '==' instead of '='?\n"
     ]
    }
   ],
   "source": [
    "5=t\n",
    "print(t)"
   ]
  },
  {
   "cell_type": "code",
   "execution_count": 55,
   "id": "69cc53be-326c-4441-a100-e1550da44ec1",
   "metadata": {},
   "outputs": [
    {
     "ename": "SyntaxError",
     "evalue": "invalid syntax (129819868.py, line 1)",
     "output_type": "error",
     "traceback": [
      "\u001b[1;36m  Cell \u001b[1;32mIn[55], line 1\u001b[1;36m\u001b[0m\n\u001b[1;33m    ^g=h=i=68\u001b[0m\n\u001b[1;37m    ^\u001b[0m\n\u001b[1;31mSyntaxError\u001b[0m\u001b[1;31m:\u001b[0m invalid syntax\n"
     ]
    }
   ],
   "source": [
    "^g=h=i=68\n",
    "print(g)\n",
    "print(h)\n",
    "print(i)"
   ]
  },
  {
   "cell_type": "code",
   "execution_count": 60,
   "id": "1780c649-a9c3-4e6b-af6a-6a53667bc7de",
   "metadata": {},
   "outputs": [
    {
     "ename": "NameError",
     "evalue": "name 'navya' is not defined",
     "output_type": "error",
     "traceback": [
      "\u001b[1;31m---------------------------------------------------------------------------\u001b[0m",
      "\u001b[1;31mNameError\u001b[0m                                 Traceback (most recent call last)",
      "Cell \u001b[1;32mIn[60], line 1\u001b[0m\n\u001b[1;32m----> 1\u001b[0m talari\u001b[38;5;241m=\u001b[39mnavya\n\u001b[0;32m      2\u001b[0m \u001b[38;5;28mprint\u001b[39m(talari)\n",
      "\u001b[1;31mNameError\u001b[0m: name 'navya' is not defined"
     ]
    }
   ],
   "source": [
    "talari=navya\n",
    "print(talari)"
   ]
  },
  {
   "cell_type": "code",
   "execution_count": 65,
   "id": "ce7cf6c9-d0ba-4f4c-b48f-6ee5597f4203",
   "metadata": {},
   "outputs": [
    {
     "ename": "SyntaxError",
     "evalue": "invalid decimal literal (538081696.py, line 1)",
     "output_type": "error",
     "traceback": [
      "\u001b[1;36m  Cell \u001b[1;32mIn[65], line 1\u001b[1;36m\u001b[0m\n\u001b[1;33m    1Hen=88\u001b[0m\n\u001b[1;37m    ^\u001b[0m\n\u001b[1;31mSyntaxError\u001b[0m\u001b[1;31m:\u001b[0m invalid decimal literal\n"
     ]
    }
   ],
   "source": [
    "1Hen=88\n",
    "print(Hen)"
   ]
  },
  {
   "cell_type": "code",
   "execution_count": 63,
   "id": "3a6c3afb-9137-4e9a-ab4b-6134c60d63b8",
   "metadata": {},
   "outputs": [
    {
     "ename": "SyntaxError",
     "evalue": "invalid syntax (4248289006.py, line 1)",
     "output_type": "error",
     "traceback": [
      "\u001b[1;36m  Cell \u001b[1;32mIn[63], line 1\u001b[1;36m\u001b[0m\n\u001b[1;33m    class=class\u001b[0m\n\u001b[1;37m         ^\u001b[0m\n\u001b[1;31mSyntaxError\u001b[0m\u001b[1;31m:\u001b[0m invalid syntax\n"
     ]
    }
   ],
   "source": [
    "class=class\n",
    "print(class)"
   ]
  },
  {
   "cell_type": "code",
   "execution_count": 64,
   "id": "c814f875-9ad6-487a-8345-55a6b465921b",
   "metadata": {},
   "outputs": [
    {
     "ename": "SyntaxError",
     "evalue": "invalid syntax (2718374714.py, line 1)",
     "output_type": "error",
     "traceback": [
      "\u001b[1;36m  Cell \u001b[1;32mIn[64], line 1\u001b[1;36m\u001b[0m\n\u001b[1;33m    $k='digit'\u001b[0m\n\u001b[1;37m    ^\u001b[0m\n\u001b[1;31mSyntaxError\u001b[0m\u001b[1;31m:\u001b[0m invalid syntax\n"
     ]
    }
   ],
   "source": [
    "$k='digit'\n",
    "print(k)"
   ]
  },
  {
   "cell_type": "code",
   "execution_count": 66,
   "id": "1e812328-395f-4542-bdac-48d7bf9fd0c9",
   "metadata": {},
   "outputs": [
    {
     "ename": "SyntaxError",
     "evalue": "invalid syntax (358388400.py, line 1)",
     "output_type": "error",
     "traceback": [
      "\u001b[1;36m  Cell \u001b[1;32mIn[66], line 1\u001b[1;36m\u001b[0m\n\u001b[1;33m    ^j,r,n=65,83,29\u001b[0m\n\u001b[1;37m    ^\u001b[0m\n\u001b[1;31mSyntaxError\u001b[0m\u001b[1;31m:\u001b[0m invalid syntax\n"
     ]
    }
   ],
   "source": [
    "^j,r,n=65,83,29\n",
    "print(j)\n",
    "print(r)\n",
    "print(n)"
   ]
  },
  {
   "cell_type": "code",
   "execution_count": 68,
   "id": "71f211f0-0570-4114-aea7-03be8c3453c4",
   "metadata": {},
   "outputs": [
    {
     "ename": "SyntaxError",
     "evalue": "cannot assign to literal here. Maybe you meant '==' instead of '='? (412967364.py, line 1)",
     "output_type": "error",
     "traceback": [
      "\u001b[1;36m  Cell \u001b[1;32mIn[68], line 1\u001b[1;36m\u001b[0m\n\u001b[1;33m    99=o\u001b[0m\n\u001b[1;37m    ^\u001b[0m\n\u001b[1;31mSyntaxError\u001b[0m\u001b[1;31m:\u001b[0m cannot assign to literal here. Maybe you meant '==' instead of '='?\n"
     ]
    }
   ],
   "source": [
    "99=o\n",
    "print(99)"
   ]
  },
  {
   "cell_type": "code",
   "execution_count": 70,
   "id": "879b8627-1cd6-4e81-af0f-2a9d5ac53380",
   "metadata": {},
   "outputs": [
    {
     "ename": "SyntaxError",
     "evalue": "invalid decimal literal (3474392851.py, line 1)",
     "output_type": "error",
     "traceback": [
      "\u001b[1;36m  Cell \u001b[1;32mIn[70], line 1\u001b[1;36m\u001b[0m\n\u001b[1;33m    4p,q,r,s=93,91,99,89\u001b[0m\n\u001b[1;37m    ^\u001b[0m\n\u001b[1;31mSyntaxError\u001b[0m\u001b[1;31m:\u001b[0m invalid decimal literal\n"
     ]
    }
   ],
   "source": [
    "4p,q,r,s=93,91,99,89\n",
    "print(p)\n",
    "print(q)\n",
    "print(r)\n",
    "print(s)"
   ]
  },
  {
   "cell_type": "code",
   "execution_count": 71,
   "id": "9c66947b-2335-49a6-a593-72edef731cb5",
   "metadata": {},
   "outputs": [
    {
     "ename": "SyntaxError",
     "evalue": "cannot assign to expression here. Maybe you meant '==' instead of '='? (3362658287.py, line 1)",
     "output_type": "error",
     "traceback": [
      "\u001b[1;36m  Cell \u001b[1;32mIn[71], line 1\u001b[1;36m\u001b[0m\n\u001b[1;33m    ~m=97\u001b[0m\n\u001b[1;37m    ^\u001b[0m\n\u001b[1;31mSyntaxError\u001b[0m\u001b[1;31m:\u001b[0m cannot assign to expression here. Maybe you meant '==' instead of '='?\n"
     ]
    }
   ],
   "source": [
    "~m=97\n",
    "print(m)"
   ]
  },
  {
   "cell_type": "code",
   "execution_count": 72,
   "id": "684f9aba-bc81-4a40-b0d2-37d078a48d05",
   "metadata": {},
   "outputs": [
    {
     "ename": "SyntaxError",
     "evalue": "cannot assign to literal here. Maybe you meant '==' instead of '='? (1871349586.py, line 1)",
     "output_type": "error",
     "traceback": [
      "\u001b[1;36m  Cell \u001b[1;32mIn[72], line 1\u001b[1;36m\u001b[0m\n\u001b[1;33m    9=h\u001b[0m\n\u001b[1;37m    ^\u001b[0m\n\u001b[1;31mSyntaxError\u001b[0m\u001b[1;31m:\u001b[0m cannot assign to literal here. Maybe you meant '==' instead of '='?\n"
     ]
    }
   ],
   "source": [
    "9=h\n",
    "4=l\n",
    "print(9)\n",
    "print(4)"
   ]
  },
  {
   "cell_type": "code",
   "execution_count": 73,
   "id": "681ee559-77f0-4c2c-aa91-b0d292124297",
   "metadata": {},
   "outputs": [
    {
     "ename": "NameError",
     "evalue": "name 'r87' is not defined",
     "output_type": "error",
     "traceback": [
      "\u001b[1;31m---------------------------------------------------------------------------\u001b[0m",
      "\u001b[1;31mNameError\u001b[0m                                 Traceback (most recent call last)",
      "Cell \u001b[1;32mIn[73], line 1\u001b[0m\n\u001b[1;32m----> 1\u001b[0m p,q\u001b[38;5;241m=\u001b[39mr87\n\u001b[0;32m      2\u001b[0m pront(p)\n\u001b[0;32m      3\u001b[0m \u001b[38;5;28mprint\u001b[39m(q)\n",
      "\u001b[1;31mNameError\u001b[0m: name 'r87' is not defined"
     ]
    }
   ],
   "source": [
    "p,q=r87\n",
    "pront(p)\n",
    "print(q)\n",
    "print(r)"
   ]
  },
  {
   "cell_type": "code",
   "execution_count": 74,
   "id": "aae03532-6a40-4b77-9b52-af3f3e961832",
   "metadata": {},
   "outputs": [
    {
     "ename": "NameError",
     "evalue": "name 'yellow' is not defined",
     "output_type": "error",
     "traceback": [
      "\u001b[1;31m---------------------------------------------------------------------------\u001b[0m",
      "\u001b[1;31mNameError\u001b[0m                                 Traceback (most recent call last)",
      "Cell \u001b[1;32mIn[74], line 1\u001b[0m\n\u001b[1;32m----> 1\u001b[0m o\u001b[38;5;241m=\u001b[39myellow\n\u001b[0;32m      2\u001b[0m p\u001b[38;5;241m=\u001b[39mblue\n\u001b[0;32m      3\u001b[0m \u001b[38;5;28mprint\u001b[39m(o)\n",
      "\u001b[1;31mNameError\u001b[0m: name 'yellow' is not defined"
     ]
    }
   ],
   "source": [
    "o=yellow\n",
    "p=blue\n",
    "print(o)\n",
    "print(p)"
   ]
  },
  {
   "cell_type": "code",
   "execution_count": 75,
   "id": "3f9c525c-eb5d-48c9-b074-b24687f3e832",
   "metadata": {},
   "outputs": [
    {
     "ename": "TypeError",
     "evalue": "cannot unpack non-iterable int object",
     "output_type": "error",
     "traceback": [
      "\u001b[1;31m---------------------------------------------------------------------------\u001b[0m",
      "\u001b[1;31mTypeError\u001b[0m                                 Traceback (most recent call last)",
      "Cell \u001b[1;32mIn[75], line 1\u001b[0m\n\u001b[1;32m----> 1\u001b[0m n,m,o\u001b[38;5;241m=\u001b[39m\u001b[38;5;241m159\u001b[39m\n\u001b[0;32m      2\u001b[0m \u001b[38;5;28mprint\u001b[39m(n,m,o)\n",
      "\u001b[1;31mTypeError\u001b[0m: cannot unpack non-iterable int object"
     ]
    }
   ],
   "source": [
    "n,m,o=159\n",
    "print(n,m,o)"
   ]
  },
  {
   "cell_type": "code",
   "execution_count": 76,
   "id": "0e236496-7383-41dc-9e7e-d289394b3c3d",
   "metadata": {},
   "outputs": [
    {
     "ename": "NameError",
     "evalue": "name 'tiger' is not defined",
     "output_type": "error",
     "traceback": [
      "\u001b[1;31m---------------------------------------------------------------------------\u001b[0m",
      "\u001b[1;31mNameError\u001b[0m                                 Traceback (most recent call last)",
      "Cell \u001b[1;32mIn[76], line 1\u001b[0m\n\u001b[1;32m----> 1\u001b[0m b\u001b[38;5;241m=\u001b[39mtiger\n\u001b[0;32m      2\u001b[0m h\u001b[38;5;241m=\u001b[39m\u001b[38;5;241m88\u001b[39m\n\u001b[0;32m      3\u001b[0m \u001b[38;5;28mprint\u001b[39m(b)\n",
      "\u001b[1;31mNameError\u001b[0m: name 'tiger' is not defined"
     ]
    }
   ],
   "source": [
    "b=tiger\n",
    "h=88\n",
    "print(b)\n",
    "print(h)"
   ]
  },
  {
   "cell_type": "code",
   "execution_count": 77,
   "id": "414692f3-6235-4c99-99e0-3bbc248f9c55",
   "metadata": {},
   "outputs": [
    {
     "ename": "SyntaxError",
     "evalue": "cannot assign to literal here. Maybe you meant '==' instead of '='? (3631480985.py, line 1)",
     "output_type": "error",
     "traceback": [
      "\u001b[1;36m  Cell \u001b[1;32mIn[77], line 1\u001b[1;36m\u001b[0m\n\u001b[1;33m    2=s\u001b[0m\n\u001b[1;37m    ^\u001b[0m\n\u001b[1;31mSyntaxError\u001b[0m\u001b[1;31m:\u001b[0m cannot assign to literal here. Maybe you meant '==' instead of '='?\n"
     ]
    }
   ],
   "source": [
    "2=s\n",
    "u=34\n",
    "print(2)\n",
    "print(u)"
   ]
  },
  {
   "cell_type": "code",
   "execution_count": 79,
   "id": "d3464d1f-cde3-431f-bde1-26fb52ff9db9",
   "metadata": {},
   "outputs": [
    {
     "ename": "NameError",
     "evalue": "name 'hello' is not defined",
     "output_type": "error",
     "traceback": [
      "\u001b[1;31m---------------------------------------------------------------------------\u001b[0m",
      "\u001b[1;31mNameError\u001b[0m                                 Traceback (most recent call last)",
      "Cell \u001b[1;32mIn[79], line 1\u001b[0m\n\u001b[1;32m----> 1\u001b[0m P\u001b[38;5;241m=\u001b[39mhello\n\u001b[0;32m      2\u001b[0m \u001b[38;5;28mprint\u001b[39m(P)\n",
      "\u001b[1;31mNameError\u001b[0m: name 'hello' is not defined"
     ]
    }
   ],
   "source": [
    "P=hello\n",
    "print(P)"
   ]
  },
  {
   "cell_type": "code",
   "execution_count": 81,
   "id": "379862c3-1f8b-4f1e-b380-2e1a47ea6445",
   "metadata": {},
   "outputs": [
    {
     "name": "stderr",
     "output_type": "stream",
     "text": [
      "UsageError: Line magic function `%` not found.\n"
     ]
    }
   ],
   "source": [
    "% l=495\n",
    "d=324\n",
    "print(l)\n",
    "print(d)"
   ]
  },
  {
   "cell_type": "code",
   "execution_count": 84,
   "id": "e3f827b8-88ee-4212-ab98-3e10f13cfb8b",
   "metadata": {},
   "outputs": [
    {
     "ename": "SyntaxError",
     "evalue": "invalid decimal literal (4042892416.py, line 1)",
     "output_type": "error",
     "traceback": [
      "\u001b[1;36m  Cell \u001b[1;32mIn[84], line 1\u001b[1;36m\u001b[0m\n\u001b[1;33m    6proved=proved\u001b[0m\n\u001b[1;37m    ^\u001b[0m\n\u001b[1;31mSyntaxError\u001b[0m\u001b[1;31m:\u001b[0m invalid decimal literal\n"
     ]
    }
   ],
   "source": [
    "6proved=proved\n",
    "print(proved)\n"
   ]
  },
  {
   "cell_type": "code",
   "execution_count": 83,
   "id": "adb92d95-62d6-4a4d-8a79-6c1b8de5e1da",
   "metadata": {},
   "outputs": [
    {
     "ename": "NameError",
     "evalue": "name 'proved' is not defined",
     "output_type": "error",
     "traceback": [
      "\u001b[1;31m---------------------------------------------------------------------------\u001b[0m",
      "\u001b[1;31mNameError\u001b[0m                                 Traceback (most recent call last)",
      "Cell \u001b[1;32mIn[83], line 1\u001b[0m\n\u001b[1;32m----> 1\u001b[0m proved\u001b[38;5;241m=\u001b[39mproved\n\u001b[0;32m      2\u001b[0m \u001b[38;5;28mprint\u001b[39m(proved)\n",
      "\u001b[1;31mNameError\u001b[0m: name 'proved' is not defined"
     ]
    }
   ],
   "source": [
    "proved=proved\n",
    "print(proved)"
   ]
  },
  {
   "cell_type": "code",
   "execution_count": 85,
   "id": "67d8033d-68cb-4924-a227-f596fc671502",
   "metadata": {},
   "outputs": [
    {
     "ename": "TypeError",
     "evalue": "cannot unpack non-iterable int object",
     "output_type": "error",
     "traceback": [
      "\u001b[1;31m---------------------------------------------------------------------------\u001b[0m",
      "\u001b[1;31mTypeError\u001b[0m                                 Traceback (most recent call last)",
      "Cell \u001b[1;32mIn[85], line 1\u001b[0m\n\u001b[1;32m----> 1\u001b[0m p,q\u001b[38;5;241m=\u001b[39mh\u001b[38;5;241m=\u001b[39m\u001b[38;5;241m879\u001b[39m\n\u001b[0;32m      2\u001b[0m \u001b[38;5;28mprint\u001b[39m(p)\n\u001b[0;32m      3\u001b[0m \u001b[38;5;28mprint\u001b[39m(q)\n",
      "\u001b[1;31mTypeError\u001b[0m: cannot unpack non-iterable int object"
     ]
    }
   ],
   "source": [
    "p,q=h=879\n",
    "print(p)\n",
    "print(q)\n",
    "print(h)"
   ]
  },
  {
   "cell_type": "code",
   "execution_count": 87,
   "id": "12fe00b2-fca0-451c-b2cf-932fdd207cce",
   "metadata": {},
   "outputs": [
    {
     "ename": "SyntaxError",
     "evalue": "invalid decimal literal (2367172708.py, line 1)",
     "output_type": "error",
     "traceback": [
      "\u001b[1;36m  Cell \u001b[1;32mIn[87], line 1\u001b[1;36m\u001b[0m\n\u001b[1;33m    1code=i\u001b[0m\n\u001b[1;37m    ^\u001b[0m\n\u001b[1;31mSyntaxError\u001b[0m\u001b[1;31m:\u001b[0m invalid decimal literal\n"
     ]
    }
   ],
   "source": [
    "1code=i\n",
    "<v=66\n",
    "print(code)\n",
    "print(v)"
   ]
  },
  {
   "cell_type": "code",
   "execution_count": null,
   "id": "a4ab31ca-8fde-4665-b603-294a084280dd",
   "metadata": {},
   "outputs": [],
   "source": []
  }
 ],
 "metadata": {
  "kernelspec": {
   "display_name": "Python 3 (ipykernel)",
   "language": "python",
   "name": "python3"
  },
  "language_info": {
   "codemirror_mode": {
    "name": "ipython",
    "version": 3
   },
   "file_extension": ".py",
   "mimetype": "text/x-python",
   "name": "python",
   "nbconvert_exporter": "python",
   "pygments_lexer": "ipython3",
   "version": "3.12.4"
  }
 },
 "nbformat": 4,
 "nbformat_minor": 5
}
